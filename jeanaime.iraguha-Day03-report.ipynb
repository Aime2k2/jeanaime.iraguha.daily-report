{
 "cells": [
  {
   "cell_type": "markdown",
   "metadata": {
    "id": "vuZYRaBzbIcs"
   },
   "source": [
    "## Practical 1: Version Control with Git: `local` "
   ]
  },
  {
   "cell_type": "markdown",
   "metadata": {},
   "source": [
    "<left> <b> <span style=\"color:red;\"> \n",
    "This notebook is focused on version control with a local repository. You are expected to go through it line by line, step by step. Execute each code cell and follow the instructions to understand how to manage version control locally. Experiment with commands, make changes, and observe how they affect your repository. Your hands-on interaction with the examples will enhance your comprehension of local version control practices.\n",
    "</span> </b></left>\n",
    "\n",
    "\n",
    "## You might find [this reference](https://ndpsoftware.com/git-cheatsheet.html#loc=index;) ,   [this command list](https://git-scm.com/docs) as well as  this [resource](https://git-scm.com/docs/gittutorial) very useful for this practical."
   ]
  },
  {
   "cell_type": "markdown",
   "metadata": {
    "id": "be02507b"
   },
   "source": [
    "### What is Version Control ?\n",
    "\n",
    "\n",
    "In software development, revision control systems (RCS) are essential tools. They are widely used across all development environments and by developers everywhere.\n",
    "\n",
    "RCS are versatile and not limited to just software projects; they are also invaluable for managing various types of digital content, including manuscripts, figures, data, and notebooks.\n",
    "\n",
    "Revision control systems (RCS) serve two primary purposes:\n",
    "\n",
    "1. **Track Changes in Source Code:**\n",
    "   - Enable tracking and managing changes to the source code.\n",
    "   - Allow reverting to previous versions if issues arise.\n",
    "   - Support working on multiple \"branches\" of the software at the same time.\n",
    "   - Use tags to identify and manage different versions, such as \"release-1.0\" or \"paper-A-final.\"\n",
    "\n",
    "2. **Facilitate Collaborative Development:**\n",
    "   - Allow multiple contributors to work on the same codebase simultaneously.\n",
    "   - Enable numerous authors to make and integrate changes.\n",
    "   - Provide clear communication and visualization of changes to all team members.\n",
    "\n",
    "\n",
    "\n",
    "\n",
    "### Basic Principles and Terminology of Revision Control Systems (RCS)\n",
    "\n",
    "In an RCS, source code or digital content is managed within a repository.\n",
    "\n",
    "- **Repository:** Stores not only the latest version of files but also the complete history of all changes made to these files since their initial addition to the repository.\n",
    "\n",
    "- **Checkout:** Users obtain a local working copy of the files from the repository. Changes are made to these local files, allowing for additions, deletions, and updates.\n",
    "\n",
    "- **Commit:** After completing a task, changes made to the local files are saved back to the repository.\n",
    "\n",
    "- **Conflict Resolution:** If changes have been made by others to the same files, conflicts may arise. The system often resolves conflicts automatically, but manual intervention may be necessary to merge conflicting changes.\n",
    "\n",
    "- **Branches and Forks:** For larger experimental developments, it’s common to create a new branch, fork, or clone of the repository. The primary branch is usually called `master` or `trunk`. Once work on a branch or fork is finished, it can be merged back into the main branch or repository.\n",
    "\n",
    "- **Distributed RCS:** Systems like Git or Mercurial allow for pulling and pushing changesets between different repositories. For instance, changes can be pushed from a local repository to a central online repository, such as those hosted on platforms like GitHub.\n",
    "\n",
    "\n",
    "In a few words, **version control** is a way to keep a backup of the changes in your\n",
    "files and to store a history of those changes.  The key charateristic of VC is that and it\n",
    "allows many people in a collaboration to make changes to the same files\n",
    "concurrently. VC is done via a VC system and there are a lot of them. [Wikipedia](https://en.wikipedia.org/wiki/Version_control)\n",
    "provides both a nice vocabulary list and a fairly complete table of some\n",
    "popular version control systems and their equivalent commands.\n",
    "\n",
    "\n",
    "\n",
    "### Popular Revision Control Systems\n",
    "\n",
    "- **Git (git):** [http://git-scm.com/](http://git-scm.com/)\n",
    "- **Mercurial (hg):** [http://mercurial.selenic.com/](http://mercurial.selenic.com/)\n",
    "\n",
    "In the remainder of this lecture, we will focus on Git. However, Mercurial is equally effective and operates in a very similar manner.\n",
    "\n",
    "We'll be using git. `Git` is an example of a distributed version control system, distinct from centralized versing control systems. I'll not discuss the distinction, but for now, the table below will\n",
    "suffice.\n",
    "\n",
    "Version Control System Tool Options\n",
    "\n",
    "- **Distributed** \n",
    "  - Decentralized CVS (dcvs)  \n",
    "  - mercurial (hg)\n",
    "  - git (git) \n",
    "  - bazaar (bzr)\n",
    "  \n",
    "- **Centralized**\n",
    "  - concurrent versions system (cvs)\n",
    "  - subversion (svn)"
   ]
  },
  {
   "cell_type": "markdown",
   "metadata": {},
   "source": [
    "## git --help : Getting Help\n",
    "\n",
    "The first thing you should know about any **tool** is how to get **help**. From the command line type\n",
    "\n",
    "```bash\n",
    "$ man git\n",
    "```\n",
    "\n",
    "If you remember from the **shell class**, **man** tells you more about a command and how to use it. The manual entry for the git version control system will appear before you. You may scroll through it using arrows, or you can search for\n",
    "keywords by typing **/** followed by the search term. I'm interested in help, so I type **/help** and then hit enter. It looks like the syntax for getting help with git is **git --help**."
   ]
  },
  {
   "cell_type": "code",
   "execution_count": null,
   "metadata": {},
   "outputs": [],
   "source": []
  },
  {
   "cell_type": "markdown",
   "metadata": {
    "id": "fee39700"
   },
   "source": [
    "To exit the manual page, type `q`.\n",
    "\n",
    "Let's see what happens when we type :\n",
    "\n",
    "```bash\n",
    "$ git --help\n",
    "```\n",
    "\n",
    "Excellent, it gives a list of commands it is able to help with, as well as their descriptions.\n",
    "\n",
    "```bash\n",
    "$  git help <command>' for more information on a specific command.\n",
    "```"
   ]
  },
  {
   "cell_type": "code",
   "execution_count": 15,
   "metadata": {
    "scrolled": true
   },
   "outputs": [
    {
     "name": "stdout",
     "output_type": "stream",
     "text": [
      "usage: git [-v | --version] [-h | --help] [-C <path>] [-c <name>=<value>]\n",
      "           [--exec-path[=<path>]] [--html-path] [--man-path] [--info-path]\n",
      "           [-p | --paginate | -P | --no-pager] [--no-replace-objects] [--no-lazy-fetch]\n",
      "           [--no-optional-locks] [--no-advice] [--bare] [--git-dir=<path>]\n",
      "           [--work-tree=<path>] [--namespace=<name>] [--config-env=<name>=<envvar>]\n",
      "           <command> [<args>]\n",
      "\n",
      "These are common Git commands used in various situations:\n",
      "\n",
      "start a working area (see also: git help tutorial)\n",
      "   clone     Clone a repository into a new directory\n",
      "   init      Create an empty Git repository or reinitialize an existing one\n",
      "\n",
      "work on the current change (see also: git help everyday)\n",
      "   add       Add file contents to the index\n",
      "   mv        Move or rename a file, a directory, or a symlink\n",
      "   restore   Restore working tree files\n",
      "   rm        Remove files from the working tree and from the index\n",
      "\n",
      "examine the history and state (see also: git help revisions)\n",
      "   bisect    Use binary search to find the commit that introduced a bug\n",
      "   diff      Show changes between commits, commit and working tree, etc\n",
      "   grep      Print lines matching a pattern\n",
      "   log       Show commit logs\n",
      "   show      Show various types of objects\n",
      "   status    Show the working tree status\n",
      "\n",
      "grow, mark and tweak your common history\n",
      "   branch    List, create, or delete branches\n",
      "   commit    Record changes to the repository\n",
      "   merge     Join two or more development histories together\n",
      "   rebase    Reapply commits on top of another base tip\n",
      "   reset     Reset current HEAD to the specified state\n",
      "   switch    Switch branches\n",
      "   tag       Create, list, delete or verify a tag object signed with GPG\n",
      "\n",
      "collaborate (see also: git help workflows)\n",
      "   fetch     Download objects and refs from another repository\n",
      "   pull      Fetch from and integrate with another repository or a local branch\n",
      "   push      Update remote refs along with associated objects\n",
      "\n",
      "'git help -a' and 'git help -g' list available subcommands and some\n",
      "concept guides. See 'git help <command>' or 'git help <concept>'\n",
      "to read about a specific subcommand or concept.\n",
      "See 'git help git' for an overview of the system.\n"
     ]
    }
   ],
   "source": [
    "! git help "
   ]
  },
  {
   "cell_type": "markdown",
   "metadata": {
    "id": "da6e3f66"
   },
   "source": [
    "## git config : Controls the behavior of git\n",
    "A few settings are in order. You don't have to do it now but it is recommanded.\n",
    "\n",
    "```bash\n",
    "$ git config --global user.name \"YOUR NAME\"\n",
    "$ git config --global user.email \"YOUR EMAIL\"\n",
    "```     "
   ]
  },
  {
   "cell_type": "code",
   "execution_count": 13,
   "metadata": {},
   "outputs": [],
   "source": [
    "! git config --global user.name \"Jean Aime IRAGUHA\"\n",
    "! git config --global user.email \"jeanaime.iraguha@aims.ac.rw\""
   ]
  },
  {
   "cell_type": "markdown",
   "metadata": {
    "id": "1b56ee4f"
   },
   "source": [
    "## git init : Creating a Local Repository\n",
    "\n",
    "To keep track of numerous versions of your work without saving numerous\n",
    "copies, you can make a local repository for it on your computer. What git\n",
    "does is to save the first version, then for each subsequent version it\n",
    "saves only the changes. This is the trick, git only records the difference between\n",
    "the new version and the one before it. With this compact information,\n",
    "git is able to recreate any version on demand by adding the changes to\n",
    "the original in order up to the version of interest.\n",
    "\n",
    "To create your own local (on your own machine) repository, you must\n",
    "initialize the repository with the infrastructure git needs in order to\n",
    "keep a record of things within the repository that you're concerned\n",
    "about. The command to do this is **git init** ."
   ]
  },
  {
   "cell_type": "code",
   "execution_count": 18,
   "metadata": {},
   "outputs": [
    {
     "name": "stdout",
     "output_type": "stream",
     "text": [
      "Reinitialized existing Git repository in C:/Users/J.AIME-IRAGUHA/Desktop/python study/python_course_colab_notebooks-main/.git/\n"
     ]
    }
   ],
   "source": [
    "! git init"
   ]
  },
  {
   "cell_type": "markdown",
   "metadata": {
    "id": "884dc97c"
   },
   "source": [
    "* * * * \n",
    "### Practical : Create a Local Repository\n",
    "\n",
    "Step 1 : Initialize your repository. Navigate to `/home`\n",
    "\n",
    "```bash\n",
    "$ cd\n",
    "$ mkdir simplestats\n",
    "$ cd simplestats\n",
    "$ git init\n",
    "Initialized empty Git repository in /home/me/simplestats/.git/\n",
    "```\n"
   ]
  },
  {
   "cell_type": "code",
   "execution_count": 20,
   "metadata": {},
   "outputs": [
    {
     "name": "stdout",
     "output_type": "stream",
     "text": [
      "C:\\Users\\J.AIME-IRAGUHA\\Desktop\\python study\\python_course_colab_notebooks-main\n"
     ]
    }
   ],
   "source": [
    "! cd"
   ]
  },
  {
   "cell_type": "markdown",
   "metadata": {},
   "source": [
    "Step 2 : Browse the directory's hidden files to see what happened here.\n",
    "Open directories, browse file contents. Learn what you can in a minute.\n",
    "\n",
    "```bash\n",
    "$ ls -A .git\n",
    "$ cd .git\n",
    "$ ls -A\n",
    "HEAD        config      description hooks       info        objects     refs      branches\n",
    "```\n",
    "\n"
   ]
  },
  {
   "cell_type": "code",
   "execution_count": 22,
   "metadata": {},
   "outputs": [],
   "source": [
    "! cd simplestats"
   ]
  },
  {
   "cell_type": "code",
   "execution_count": 31,
   "metadata": {},
   "outputs": [],
   "source": [
    "! cd .git"
   ]
  },
  {
   "cell_type": "code",
   "execution_count": 35,
   "metadata": {},
   "outputs": [
    {
     "name": "stdout",
     "output_type": "stream",
     "text": [
      " Volume in drive C has no label.\n",
      " Volume Serial Number is 2EE9-7B3D\n",
      "\n",
      " Directory of C:\\Users\\J.AIME-IRAGUHA\\Desktop\\python study\\python_course_colab_notebooks-main\n",
      "\n",
      "\n",
      " Directory of C:\\Users\\J.AIME-IRAGUHA\\Desktop\\python study\\python_course_colab_notebooks-main\\.git\n",
      "\n",
      "26/09/2024  20:46    <DIR>          ..\n",
      "26/09/2024  18:36                49 COMMIT_EDITMSG\n",
      "26/09/2024  13:46               189 config\n",
      "24/09/2024  12:42                73 description\n",
      "24/09/2024  12:42                23 HEAD\n",
      "24/09/2024  12:42    <DIR>          hooks\n",
      "26/09/2024  18:32             3,568 index\n",
      "24/09/2024  12:42    <DIR>          info\n",
      "26/09/2024  18:36    <DIR>          logs\n",
      "26/09/2024  18:36    <DIR>          objects\n",
      "24/09/2024  12:42    <DIR>          refs\n",
      "               5 File(s)          3,902 bytes\n",
      "               6 Dir(s)  162,352,054,272 bytes free\n"
     ]
    },
    {
     "name": "stderr",
     "output_type": "stream",
     "text": [
      "File Not Found\n"
     ]
    }
   ],
   "source": [
    "! dir -A .git"
   ]
  },
  {
   "cell_type": "markdown",
   "metadata": {},
   "source": [
    "Step 3 : Use what you've learned. You may have noticed the file called description. You can describe your repository by opening the description file and replacing the text with a name for the repository.  We will be creating a module with some simple statistical methods, so mine will be called \"Some simple methods for statistical analysis\". You may call yours  anything you like.\n",
    "\n",
    "```bash\n",
    "$ nano description\n",
    "```"
   ]
  },
  {
   "cell_type": "code",
   "execution_count": 24,
   "metadata": {},
   "outputs": [
    {
     "name": "stdout",
     "output_type": "stream",
     "text": [
      "Reinitialized existing Git repository in C:/Users/J.AIME-IRAGUHA/Desktop/python study/python_course_colab_notebooks-main/.git/\n"
     ]
    }
   ],
   "source": [
    "!git init"
   ]
  },
  {
   "cell_type": "markdown",
   "metadata": {},
   "source": [
    "You can use `!tree` or `tree` to display the directory structure in a tree-like format"
   ]
  },
  {
   "cell_type": "code",
   "execution_count": 26,
   "metadata": {},
   "outputs": [
    {
     "name": "stdout",
     "output_type": "stream",
     "text": [
      "C:\\Users\\J.AIME-IRAGUHA\\Desktop\\python study\\python_course_colab_notebooks-main\n"
     ]
    }
   ],
   "source": [
    "!cd"
   ]
  },
  {
   "cell_type": "code",
   "execution_count": 27,
   "metadata": {},
   "outputs": [],
   "source": [
    "!cd simplestats"
   ]
  },
  {
   "cell_type": "code",
   "execution_count": 28,
   "metadata": {},
   "outputs": [
    {
     "name": "stdout",
     "output_type": "stream",
     "text": [
      "Reinitialized existing Git repository in C:/Users/J.AIME-IRAGUHA/Desktop/python study/python_course_colab_notebooks-main/.git/\n"
     ]
    }
   ],
   "source": [
    "! git init"
   ]
  },
  {
   "cell_type": "code",
   "execution_count": 29,
   "metadata": {},
   "outputs": [],
   "source": [
    "!cd simplestats"
   ]
  },
  {
   "cell_type": "code",
   "execution_count": 30,
   "metadata": {},
   "outputs": [
    {
     "name": "stdout",
     "output_type": "stream",
     "text": [
      "Reinitialized existing Git repository in C:/Users/J.AIME-IRAGUHA/Desktop/python study/python_course_colab_notebooks-main/.git/\n"
     ]
    }
   ],
   "source": [
    "!git init"
   ]
  },
  {
   "cell_type": "code",
   "execution_count": 3,
   "metadata": {},
   "outputs": [
    {
     "name": "stdout",
     "output_type": "stream",
     "text": [
      " Volume in drive C has no label.\n",
      " Volume Serial Number is 2EE9-7B3D\n",
      "\n",
      " Directory of C:\\Users\\J.AIME-IRAGUHA\\Desktop\\python study\\python_course_colab_notebooks-main\n",
      "\n",
      "26/09/2024  19:46    <DIR>          .\n",
      "25/09/2024  22:15    <DIR>          ..\n",
      "26/09/2024  11:59    <DIR>          .ipynb_checkpoints\n",
      "24/09/2024  11:03            63,256 00_Lecture00.ipynb\n",
      "24/09/2024  10:59            37,102 03_Lecture03.ipynb\n",
      "24/09/2024  10:59            24,327 04_Lecture04.ipynb\n",
      "24/09/2024  10:59            57,557 05_Lecture05.ipynb\n",
      "24/09/2024  10:59            41,793 06_Lecture06.ipynb\n",
      "24/09/2024  10:59            33,207 07_Lecture07.ipynb\n",
      "26/09/2024  11:38        68,406,896 Git-2.46.2-64-bit.exe\n",
      "25/09/2024  22:55                57 hello.txt\n",
      "24/09/2024  11:00    <DIR>          htmls\n",
      "24/09/2024  20:48            73,185 jeanaime.iraguha-Day01-report.ipynb\n",
      "26/09/2024  10:21            72,355 jeanaime.iraguha-Day02-report.ipynb\n",
      "25/09/2024  21:59                44 output.txt\n",
      "24/09/2024  11:00    <DIR>          pdfs\n",
      "26/09/2024  13:54                 5 README.md\n",
      "26/09/2024  13:54                 5 READMEaime.md\n",
      "26/09/2024  12:04    <DIR>          simplestats\n",
      "26/09/2024  19:46            41,974 version_control_local.ipynb\n",
      "25/09/2024  22:34                85 your_file.txt\n",
      "              15 File(s)     68,851,848 bytes\n",
      "               6 Dir(s)  162,349,674,496 bytes free\n"
     ]
    }
   ],
   "source": [
    "ls "
   ]
  },
  {
   "cell_type": "markdown",
   "metadata": {
    "id": "8-rwgD5HbIdj"
   },
   "source": [
    "* * *  *\n",
    "An interesting command I would like you to test is `git status`, I will describe it later but let's see what it displays now.\n",
    "```bash\n",
    "$ git status\n",
    "On branch master\n",
    "\n",
    "No commits yet\n",
    "\n",
    "nothing to commit (create/copy files and use \"git add\" to track)\n",
    "```\n",
    "\n",
    "* * *  *\n"
   ]
  },
  {
   "cell_type": "code",
   "execution_count": 33,
   "metadata": {},
   "outputs": [
    {
     "name": "stdout",
     "output_type": "stream",
     "text": [
      "On branch master\n",
      "\n",
      "No commits yet\n",
      "\n",
      "Untracked files:\n",
      "  (use \"git add <file>...\" to include in what will be committed)\n",
      "\t.ipynb_checkpoints/\n",
      "\t00_Lecture00.ipynb\n",
      "\t03_Lecture03.ipynb\n",
      "\t04_Lecture04.ipynb\n",
      "\t05_Lecture05.ipynb\n",
      "\t06_Lecture06.ipynb\n",
      "\t07_Lecture07.ipynb\n",
      "\tGit-2.46.2-64-bit.exe\n",
      "\tREADME.md\n",
      "\thello.txt\n",
      "\thtmls/\n",
      "\tjeanaime.iraguha-Day01-report.ipynb\n",
      "\tjeanaime.iraguha-Day02-report.ipynb\n",
      "\toutput.txt\n",
      "\tpdfs/\n",
      "\tversion_control_local.ipynb\n",
      "\tyour_file.txt\n",
      "\n",
      "nothing added to commit but untracked files present (use \"git add\" to track)\n"
     ]
    }
   ],
   "source": [
    "! git status"
   ]
  },
  {
   "cell_type": "markdown",
   "metadata": {
    "id": "bdcfca76"
   },
   "source": [
    "## git add : Adding a File To Version Control\n",
    "\n",
    "For the git repository to know which files within this directory you\n",
    "would like to keep track of, you must add them. First, you'll need to\n",
    "create one, then we'll learn the **git add** command."
   ]
  },
  {
   "cell_type": "markdown",
   "metadata": {
    "id": "a6f520a2"
   },
   "source": [
    "* * * * \n",
    "### Practical : Add a File to Your Local Repository\n",
    "\n",
    "Step 1 : Create a file to add to your repository.\n",
    "\n",
    "```bash\n",
    "$ touch README.md\n",
    "```\n",
    "\n"
   ]
  },
  {
   "cell_type": "code",
   "execution_count": 117,
   "metadata": {},
   "outputs": [],
   "source": [
    "! echo \"\" > READMEaime.md\n"
   ]
  },
  {
   "cell_type": "markdown",
   "metadata": {},
   "source": [
    "Step 2: Verify that git has seen the file.\n",
    "\n",
    "```bash\n",
    "$ git status\n",
    "# On branch master\n",
    "\n",
    "# No commits yet\n",
    "\n",
    "# Untracked files:\n",
    "#(use \"git add <file>...\" to include in what will be committed) README.md\n",
    "\n",
    "# nothing added to commit but untracked files present (use \"git add\" to track)\n",
    "```\n"
   ]
  },
  {
   "cell_type": "code",
   "execution_count": 121,
   "metadata": {},
   "outputs": [
    {
     "name": "stdout",
     "output_type": "stream",
     "text": [
      "On branch master\n",
      "\n",
      "No commits yet\n",
      "\n",
      "Changes to be committed:\n",
      "  (use \"git rm --cached <file>...\" to unstage)\n",
      "\tnew file:   .ipynb_checkpoints/00_Lecture00-checkpoint.ipynb\n",
      "\tnew file:   .ipynb_checkpoints/hello-checkpoint.txt\n",
      "\tnew file:   .ipynb_checkpoints/jeanaime.iraguha-Day01-report-checkpoint.ipynb\n",
      "\tnew file:   .ipynb_checkpoints/jeanaime.iraguha-Day02-report-checkpoint.ipynb\n",
      "\tnew file:   .ipynb_checkpoints/version_control_local-checkpoint.ipynb\n",
      "\tnew file:   00_Lecture00.ipynb\n",
      "\tnew file:   03_Lecture03.ipynb\n",
      "\tnew file:   04_Lecture04.ipynb\n",
      "\tnew file:   05_Lecture05.ipynb\n",
      "\tnew file:   06_Lecture06.ipynb\n",
      "\tnew file:   07_Lecture07.ipynb\n",
      "\tnew file:   Git-2.46.2-64-bit.exe\n",
      "\tnew file:   README.md\n",
      "\tnew file:   hello.txt\n",
      "\tnew file:   htmls/Lecture0.html\n",
      "\tnew file:   htmls/Lecture1.html\n",
      "\tnew file:   htmls/Lecture2.html\n",
      "\tnew file:   htmls/Lecture3.html\n",
      "\tnew file:   htmls/Lecture4.html\n",
      "\tnew file:   htmls/Lecture5.html\n",
      "\tnew file:   htmls/Lecture6.html\n",
      "\tnew file:   htmls/Lecture7.html\n",
      "\tnew file:   htmls/readme.md\n",
      "\tnew file:   jeanaime.iraguha-Day01-report.ipynb\n",
      "\tnew file:   jeanaime.iraguha-Day02-report.ipynb\n",
      "\tnew file:   output.txt\n",
      "\tnew file:   pdfs/Lecture0.pdf\n",
      "\tnew file:   pdfs/Lecture1.pdf\n",
      "\tnew file:   pdfs/Lecture2.pdf\n",
      "\tnew file:   pdfs/Lecture3.pdf\n",
      "\tnew file:   pdfs/Lecture4.pdf\n",
      "\tnew file:   pdfs/Lecture5.pdf\n",
      "\tnew file:   pdfs/Lecture6.pdf\n",
      "\tnew file:   pdfs/Lecture7.pdf\n",
      "\tnew file:   pdfs/readme.md\n",
      "\tnew file:   version_control_local.ipynb\n",
      "\tnew file:   your_file.txt\n",
      "\n",
      "Changes not staged for commit:\n",
      "  (use \"git add <file>...\" to update what will be committed)\n",
      "  (use \"git restore <file>...\" to discard changes in working directory)\n",
      "\tmodified:   version_control_local.ipynb\n",
      "\n",
      "Untracked files:\n",
      "  (use \"git add <file>...\" to include in what will be committed)\n",
      "\tREADMEaime.md\n",
      "\n"
     ]
    }
   ],
   "source": [
    "! git status"
   ]
  },
  {
   "cell_type": "markdown",
   "metadata": {},
   "source": [
    "\n",
    "Step 3 : Inform git that you would like to keep track of future changes\n",
    "in this file.\n",
    "\n",
    "```bash\n",
    "$ git add README.md\n",
    "```"
   ]
  },
  {
   "cell_type": "code",
   "execution_count": 123,
   "metadata": {},
   "outputs": [],
   "source": [
    "!git add READMEaime.md"
   ]
  },
  {
   "cell_type": "markdown",
   "metadata": {
    "id": "31901d46"
   },
   "source": [
    "## git status : Checking the status of your local copy\n",
    "\n",
    "The files you've created on your machine are your local \"working\" copy.\n",
    "The changes your make in this local copy aren't backed up online\n",
    "automatically. Until you commit them, the changes you make are local\n",
    "changes. When you change anything, your set of files becomes different\n",
    "from the files in the official repository copy. To find out what's\n",
    "different about them in the terminal, try:\n",
    "\n",
    "```bash\n",
    "$ git status\n",
    "# On branch master\n",
    "#\n",
    "# No commits yet\n",
    "#\n",
    "# Changes to be committed:\n",
    "#   (use \"git rm --cached <file>...\" to unstage)\n",
    "#\n",
    "#       new file:   README.md\n",
    "#\n",
    "```\n",
    "\n",
    "The null result means that you're up to date with the current version of\n",
    "the repository online. This result indicates that the current difference\n",
    "between the repository HEAD (which, so far, is empty) and your\n",
    "`simplestats` directory is this new README.md file."
   ]
  },
  {
   "cell_type": "code",
   "execution_count": 131,
   "metadata": {},
   "outputs": [
    {
     "name": "stdout",
     "output_type": "stream",
     "text": [
      "On branch master\n",
      "\n",
      "No commits yet\n",
      "\n",
      "Changes to be committed:\n",
      "  (use \"git rm --cached <file>...\" to unstage)\n",
      "\tnew file:   .ipynb_checkpoints/00_Lecture00-checkpoint.ipynb\n",
      "\tnew file:   .ipynb_checkpoints/hello-checkpoint.txt\n",
      "\tnew file:   .ipynb_checkpoints/jeanaime.iraguha-Day01-report-checkpoint.ipynb\n",
      "\tnew file:   .ipynb_checkpoints/jeanaime.iraguha-Day02-report-checkpoint.ipynb\n",
      "\tnew file:   .ipynb_checkpoints/version_control_local-checkpoint.ipynb\n",
      "\tnew file:   00_Lecture00.ipynb\n",
      "\tnew file:   03_Lecture03.ipynb\n",
      "\tnew file:   04_Lecture04.ipynb\n",
      "\tnew file:   05_Lecture05.ipynb\n",
      "\tnew file:   06_Lecture06.ipynb\n",
      "\tnew file:   07_Lecture07.ipynb\n",
      "\tnew file:   Git-2.46.2-64-bit.exe\n",
      "\tnew file:   README.md\n",
      "\tnew file:   READMEaime.md\n",
      "\tnew file:   hello.txt\n",
      "\tnew file:   htmls/Lecture0.html\n",
      "\tnew file:   htmls/Lecture1.html\n",
      "\tnew file:   htmls/Lecture2.html\n",
      "\tnew file:   htmls/Lecture3.html\n",
      "\tnew file:   htmls/Lecture4.html\n",
      "\tnew file:   htmls/Lecture5.html\n",
      "\tnew file:   htmls/Lecture6.html\n",
      "\tnew file:   htmls/Lecture7.html\n",
      "\tnew file:   htmls/readme.md\n",
      "\tnew file:   jeanaime.iraguha-Day01-report.ipynb\n",
      "\tnew file:   jeanaime.iraguha-Day02-report.ipynb\n",
      "\tnew file:   output.txt\n",
      "\tnew file:   pdfs/Lecture0.pdf\n",
      "\tnew file:   pdfs/Lecture1.pdf\n",
      "\tnew file:   pdfs/Lecture2.pdf\n",
      "\tnew file:   pdfs/Lecture3.pdf\n",
      "\tnew file:   pdfs/Lecture4.pdf\n",
      "\tnew file:   pdfs/Lecture5.pdf\n",
      "\tnew file:   pdfs/Lecture6.pdf\n",
      "\tnew file:   pdfs/Lecture7.pdf\n",
      "\tnew file:   pdfs/readme.md\n",
      "\tnew file:   version_control_local.ipynb\n",
      "\tnew file:   your_file.txt\n",
      "\n",
      "Changes not staged for commit:\n",
      "  (use \"git add <file>...\" to update what will be committed)\n",
      "  (use \"git restore <file>...\" to discard changes in working directory)\n",
      "\tmodified:   version_control_local.ipynb\n",
      "\n"
     ]
    }
   ],
   "source": [
    "! git status\n"
   ]
  },
  {
   "cell_type": "markdown",
   "metadata": {
    "id": "5c0466af"
   },
   "source": [
    "## git commit : Saving a snapshot\n",
    "\n",
    "In order to save a snapshot of the current state (revision) of the\n",
    "repository, we use the commit command. This command is always associated\n",
    "with a message describing the changes since the last commit and\n",
    "indicating their purpose. Informative commit messages will serve you\n",
    "well someday, so make a habit of never committing changes without at\n",
    "least a full sentence description.\n",
    "\n",
    "**ADVICE: Commit often**\n",
    "\n",
    "In the same way that it is wise to often save a document that you are\n",
    "working on, so too is it wise to save numerous revisions of your code.\n",
    "More frequent commits increase the granularity of your **undo** button.\n",
    "\n",
    "**ADVICE: Good commit messages**\n",
    "\n",
    "There are no hard and fast rules, but good commits are atomic: they are the smallest change that remain meaningful. A good commit message usually contains a one-line description followed by a longer explanation if necessary.\n"
   ]
  },
  {
   "cell_type": "markdown",
   "metadata": {
    "id": "ad25127c"
   },
   "source": [
    "* * * \n",
    "### Practical : Commit Your Changes\n",
    "\n",
    "Step 1 : Commit the file you've added to your repository.\n",
    "\n",
    "```bash\n",
    "$ git commit -am \"This is the first commit. It adds a readme file.\"\n",
    "  [master (root-commit) 664867c] This is the first commit. It adds a readme file.\n",
    "  1 file changed, 0 insertions(+), 0 deletions(-)\n",
    "  create mode 100644 readme.md\n",
    "```  "
   ]
  },
  {
   "cell_type": "code",
   "execution_count": 1,
   "metadata": {},
   "outputs": [
    {
     "name": "stdout",
     "output_type": "stream",
     "text": [
      "[master (root-commit) b77c28f] This is the first commit. It adds a readme file.\n",
      " 38 files changed, 152040 insertions(+)\n",
      " create mode 100644 .ipynb_checkpoints/00_Lecture00-checkpoint.ipynb\n",
      " create mode 100644 .ipynb_checkpoints/hello-checkpoint.txt\n",
      " create mode 100644 .ipynb_checkpoints/jeanaime.iraguha-Day01-report-checkpoint.ipynb\n",
      " create mode 100644 .ipynb_checkpoints/jeanaime.iraguha-Day02-report-checkpoint.ipynb\n",
      " create mode 100644 .ipynb_checkpoints/version_control_local-checkpoint.ipynb\n",
      " create mode 100644 00_Lecture00.ipynb\n",
      " create mode 100644 03_Lecture03.ipynb\n",
      " create mode 100644 04_Lecture04.ipynb\n",
      " create mode 100644 05_Lecture05.ipynb\n",
      " create mode 100644 06_Lecture06.ipynb\n",
      " create mode 100644 07_Lecture07.ipynb\n",
      " create mode 100644 Git-2.46.2-64-bit.exe\n",
      " create mode 100644 README.md\n",
      " create mode 100644 READMEaime.md\n",
      " create mode 100644 hello.txt\n",
      " create mode 100644 htmls/Lecture0.html\n",
      " create mode 100644 htmls/Lecture1.html\n",
      " create mode 100644 htmls/Lecture2.html\n",
      " create mode 100644 htmls/Lecture3.html\n",
      " create mode 100644 htmls/Lecture4.html\n",
      " create mode 100644 htmls/Lecture5.html\n",
      " create mode 100644 htmls/Lecture6.html\n",
      " create mode 100644 htmls/Lecture7.html\n",
      " create mode 100644 htmls/readme.md\n",
      " create mode 100644 jeanaime.iraguha-Day01-report.ipynb\n",
      " create mode 100644 jeanaime.iraguha-Day02-report.ipynb\n",
      " create mode 100644 output.txt\n",
      " create mode 100644 pdfs/Lecture0.pdf\n",
      " create mode 100644 pdfs/Lecture1.pdf\n",
      " create mode 100644 pdfs/Lecture2.pdf\n",
      " create mode 100644 pdfs/Lecture3.pdf\n",
      " create mode 100644 pdfs/Lecture4.pdf\n",
      " create mode 100644 pdfs/Lecture5.pdf\n",
      " create mode 100644 pdfs/Lecture6.pdf\n",
      " create mode 100644 pdfs/Lecture7.pdf\n",
      " create mode 100644 pdfs/readme.md\n",
      " create mode 100644 version_control_local.ipynb\n",
      " create mode 100644 your_file.txt\n"
     ]
    }
   ],
   "source": [
    "! git commit -m \"This is the first commit. It adds a readme file.\" \n"
   ]
  },
  {
   "cell_type": "markdown",
   "metadata": {},
   "source": [
    "Step 2 : Admire your work.\n",
    "\n",
    "```bash\n",
    "$ git status\n",
    "# On branch master\n",
    "nothing to commit, working tree clean\n",
    "```"
   ]
  },
  {
   "cell_type": "code",
   "execution_count": 1,
   "metadata": {},
   "outputs": [
    {
     "name": "stdout",
     "output_type": "stream",
     "text": [
      "On branch master\n",
      "Changes not staged for commit:\n",
      "  (use \"git add <file>...\" to update what will be committed)\n",
      "  (use \"git restore <file>...\" to discard changes in working directory)\n",
      "\tmodified:   version_control_local.ipynb\n",
      "\n",
      "no changes added to commit (use \"git add\" and/or \"git commit -a\")\n"
     ]
    }
   ],
   "source": [
    "! git status"
   ]
  },
  {
   "cell_type": "markdown",
   "metadata": {
    "id": "46cbed6f"
   },
   "source": [
    "## git diff : Viewing the Differences\n",
    "\n",
    "There are many diff tools.\n",
    "\n",
    "If you have a favorite you can set your default git diff tool to execute that one. Git, however, comes with its own diff system.\n",
    "\n",
    "Let's recall the behavior of the linux [`diff`](https://www.geeksforgeeks.org/diff-command-linux-examples/) command on the command line. The equivalent command for windows is [fc](https://www.howtogeek.com/206123/how-to-use-fc-file-compare-from-the-windows-command-prompt/). Choosing two files that are similar, the command:\n",
    "\n",
    "```bash\n",
    "$!diff file1 file2\n",
    "```\n",
    "\n",
    "will output the lines that differ between the two files. This information can be saved as what's known as a patch, but we won't go deeply into that just now.\n"
   ]
  },
  {
   "cell_type": "markdown",
   "metadata": {},
   "source": [
    "The only difference between the command line diff tool and git's diff tool is that the git tool is aware of all of the revisions in your repository, allowing each revision of each file to be treated as a full file.\n",
    "\n",
    "\n",
    "Thus, git diff will output the changes in your working directory that are not yet staged for a commit. To see how this works, make a change in your `README.md` file, but don't yet commit it.\n",
    "\n",
    "```bash\n",
    "$ git diff\n",
    "```"
   ]
  },
  {
   "cell_type": "code",
   "execution_count": 5,
   "metadata": {},
   "outputs": [
    {
     "name": "stdout",
     "output_type": "stream",
     "text": [
      "diff --git a/version_control_local.ipynb b/version_control_local.ipynb\n",
      "index 480afee..79401ae 100644\n",
      "--- a/version_control_local.ipynb\n",
      "+++ b/version_control_local.ipynb\n",
      "@@ -115,69 +115,6 @@\n",
      "     \"keywords by typing **/** followed by the search term. I'm interested in help, so I type **/help** and then hit enter. It looks like the syntax for getting help with git is **git --help**.\"\n",
      "    ]\n",
      "   },\n",
      "-  {\n",
      "-   \"cell_type\": \"code\",\n",
      "-   \"execution_count\": 1,\n",
      "-   \"metadata\": {},\n",
      "-   \"outputs\": [\n",
      "-    {\n",
      "-     \"name\": \"stdout\",\n",
      "-     \"output_type\": \"stream\",\n",
      "-     \"text\": [\n",
      "-      \"usage: git [-v | --version] [-h | --help] [-C <path>] [-c <name>=<value>]\\n\",\n",
      "-      \"           [--exec-path[=<path>]] [--html-path] [--man-path] [--info-path]\\n\",\n",
      "-      \"           [-p | --paginate | -P | --no-pager] [--no-replace-objects] [--no-lazy-fetch]\\n\",\n",
      "-      \"           [--no-optional-locks] [--no-advice] [--bare] [--git-dir=<path>]\\n\",\n",
      "-      \"           [--work-tree=<path>] [--namespace=<name>] [--config-env=<name>=<envvar>]\\n\",\n",
      "-      \"           <command> [<args>]\\n\",\n",
      "-      \"\\n\",\n",
      "-      \"These are common Git commands used in various situations:\\n\",\n",
      "-      \"\\n\",\n",
      "-      \"start a working area (see also: git help tutorial)\\n\",\n",
      "-      \"   clone     Clone a repository into a new directory\\n\",\n",
      "-      \"   init      Create an empty Git repository or reinitialize an existing one\\n\",\n",
      "-      \"\\n\",\n",
      "-      \"work on the current change (see also: git help everyday)\\n\",\n",
      "-      \"   add       Add file contents to the index\\n\",\n",
      "-      \"   mv        Move or rename a file, a directory, or a symlink\\n\",\n",
      "-      \"   restore   Restore working tree files\\n\",\n",
      "-      \"   rm        Remove files from the working tree and from the index\\n\",\n",
      "-      \"\\n\",\n",
      "-      \"examine the history and state (see also: git help revisions)\\n\",\n",
      "-      \"   bisect    Use binary search to find the commit that introduced a bug\\n\",\n",
      "-      \"   diff      Show changes between commits, commit and working tree, etc\\n\",\n",
      "-      \"   grep      Print lines matching a pattern\\n\",\n",
      "-      \"   log       Show commit logs\\n\",\n",
      "-      \"   show      Show various types of objects\\n\",\n",
      "-      \"   status    Show the working tree status\\n\",\n",
      "-      \"\\n\",\n",
      "-      \"grow, mark and tweak your common history\\n\",\n",
      "-      \"   branch    List, create, or delete branches\\n\",\n",
      "-      \"   commit    Record changes to the repository\\n\",\n",
      "-      \"   merge     Join two or more development histories together\\n\",\n",
      "-      \"   rebase    Reapply commits on top of another base tip\\n\",\n",
      "-      \"   reset     Reset current HEAD to the specified state\\n\",\n",
      "-      \"   switch    Switch branches\\n\",\n",
      "-      \"   tag       Create, list, delete or verify a tag object signed with GPG\\n\",\n",
      "-      \"\\n\",\n",
      "-      \"collaborate (see also: git help workflows)\\n\",\n",
      "-      \"   fetch     Download objects and refs from another repository\\n\",\n",
      "-      \"   pull      Fetch from and integrate with another repository or a local branch\\n\",\n",
      "-      \"   push      Update remote refs along with associated objects\\n\",\n",
      "-      \"\\n\",\n",
      "-      \"'git help -a' and 'git help -g' list available subcommands and some\\n\",\n",
      "-      \"concept guides. See 'git help <command>' or 'git help <concept>'\\n\",\n",
      "-      \"to read about a specific subcommand or concept.\\n\",\n",
      "-      \"See 'git help git' for an overview of the system.\\n\"\n",
      "-     ]\n",
      "-    }\n",
      "-   ],\n",
      "-   \"source\": [\n",
      "-    \"\\n\",\n",
      "-    \"! git --help\\n\",\n",
      "-    \"\\n\"\n",
      "-   ]\n",
      "-  },\n",
      "   {\n",
      "    \"cell_type\": \"code\",\n",
      "    \"execution_count\": null,\n",
      "@@ -208,7 +145,7 @@\n",
      "   },\n",
      "   {\n",
      "    \"cell_type\": \"code\",\n",
      "-   \"execution_count\": 3,\n",
      "+   \"execution_count\": 15,\n",
      "    \"metadata\": {\n",
      "     \"scrolled\": true\n",
      "    },\n",
      "@@ -286,10 +223,13 @@\n",
      "   },\n",
      "   {\n",
      "    \"cell_type\": \"code\",\n",
      "-   \"execution_count\": null,\n",
      "+   \"execution_count\": 13,\n",
      "    \"metadata\": {},\n",
      "    \"outputs\": [],\n",
      "-   \"source\": []\n",
      "+   \"source\": [\n",
      "+    \"! git config --global user.name \\\"Jean Aime IRAGUHA\\\"\\n\",\n",
      "+    \"! git config --global user.email \\\"jeanaime.iraguha@aims.ac.rw\\\"\"\n",
      "+   ]\n",
      "   },\n",
      "   {\n",
      "    \"cell_type\": \"markdown\",\n",
      "@@ -315,7 +255,7 @@\n",
      "   },\n",
      "   {\n",
      "    \"cell_type\": \"code\",\n",
      "-   \"execution_count\": 5,\n",
      "+   \"execution_count\": 18,\n",
      "    \"metadata\": {},\n",
      "    \"outputs\": [\n",
      "     {\n",
      "@@ -352,7 +292,7 @@\n",
      "   },\n",
      "   {\n",
      "    \"cell_type\": \"code\",\n",
      "-   \"execution_count\": 7,\n",
      "+   \"execution_count\": 20,\n",
      "    \"metadata\": {},\n",
      "    \"outputs\": [\n",
      "     {\n",
      "@@ -385,7 +325,7 @@\n",
      "   },\n",
      "   {\n",
      "    \"cell_type\": \"code\",\n",
      "-   \"execution_count\": 17,\n",
      "+   \"execution_count\": 22,\n",
      "    \"metadata\": {},\n",
      "    \"outputs\": [],\n",
      "    \"source\": [\n",
      "@@ -405,7 +345,7 @@\n",
      "   },\n",
      "   {\n",
      "    \"cell_type\": \"code\",\n",
      "-   \"execution_count\": 21,\n",
      "+   \"execution_count\": 24,\n",
      "    \"metadata\": {},\n",
      "    \"outputs\": [\n",
      "     {\n",
      "@@ -429,7 +369,7 @@\n",
      "   },\n",
      "   {\n",
      "    \"cell_type\": \"code\",\n",
      "-   \"execution_count\": 64,\n",
      "+   \"execution_count\": 26,\n",
      "    \"metadata\": {},\n",
      "    \"outputs\": [\n",
      "     {\n",
      "@@ -446,7 +386,7 @@\n",
      "   },\n",
      "   {\n",
      "    \"cell_type\": \"code\",\n",
      "-   \"execution_count\": 68,\n",
      "+   \"execution_count\": 27,\n",
      "    \"metadata\": {},\n",
      "    \"outputs\": [],\n",
      "    \"source\": [\n",
      "@@ -455,15 +395,14 @@\n",
      "   },\n",
      "   {\n",
      "    \"cell_type\": \"code\",\n",
      "-   \"execution_count\": 72,\n",
      "+   \"execution_count\": 28,\n",
      "    \"metadata\": {},\n",
      "    \"outputs\": [\n",
      "     {\n",
      "-     \"name\": \"stderr\",\n",
      "+     \"name\": \"stdout\",\n",
      "      \"output_type\": \"stream\",\n",
      "      \"text\": [\n",
      "-      \"'git' is not recognized as an internal or external command,\\n\",\n",
      "-      \"operable program or batch file.\\n\"\n",
      "+      \"Reinitialized existing Git repository in C:/Users/J.AIME-IRAGUHA/Desktop/python study/python_course_colab_notebooks-main/.git/\\n\"\n",
      "      ]\n",
      "     }\n",
      "    ],\n",
      "@@ -473,7 +412,7 @@\n",
      "   },\n",
      "   {\n",
      "    \"cell_type\": \"code\",\n",
      "-   \"execution_count\": 60,\n",
      "+   \"execution_count\": 29,\n",
      "    \"metadata\": {},\n",
      "    \"outputs\": [],\n",
      "    \"source\": [\n",
      "@@ -482,15 +421,14 @@\n",
      "   },\n",
      "   {\n",
      "    \"cell_type\": \"code\",\n",
      "-   \"execution_count\": 62,\n",
      "+   \"execution_count\": 30,\n",
      "    \"metadata\": {},\n",
      "    \"outputs\": [\n",
      "     {\n",
      "-     \"name\": \"stderr\",\n",
      "+     \"name\": \"stdout\",\n",
      "      \"output_type\": \"stream\",\n",
      "      \"text\": [\n",
      "-      \"'git' is not recognized as an internal or external command,\\n\",\n",
      "-      \"operable program or batch file.\\n\"\n",
      "+      \"Reinitialized existing Git repository in C:/Users/J.AIME-IRAGUHA/Desktop/python study/python_course_colab_notebooks-main/.git/\\n\"\n",
      "      ]\n",
      "     }\n",
      "    ],\n",
      "@@ -500,25 +438,46 @@\n",
      "   },\n",
      "   {\n",
      "    \"cell_type\": \"code\",\n",
      "-   \"execution_count\": 23,\n",
      "+   \"execution_count\": 3,\n",
      "    \"metadata\": {},\n",
      "    \"outputs\": [\n",
      "     {\n",
      "      \"name\": \"stdout\",\n",
      "      \"output_type\": \"stream\",\n",
      "      \"text\": [\n",
      "-      \"Folder PATH listing\\n\",\n",
      "-      \"Volume serial number is 2EE9-7B3D\\n\",\n",
      "-      \"C:.\\n\",\n",
      "-      \"+---.ipynb_checkpoints\\n\",\n",
      "-      \"+---htmls\\n\",\n",
      "-      \"+---pdfs\\n\",\n",
      "-      \"+---simplestats\\n\"\n",
      "+      \" Volume in drive C has no label.\\n\",\n",
      "+      \" Volume Serial Number is 2EE9-7B3D\\n\",\n",
      "+      \"\\n\",\n",
      "+      \" Directory of C:\\\\Users\\\\J.AIME-IRAGUHA\\\\Desktop\\\\python study\\\\python_course_colab_notebooks-main\\n\",\n",
      "+      \"\\n\",\n",
      "+      \"26/09/2024  19:46    <DIR>          .\\n\",\n",
      "+      \"25/09/2024  22:15    <DIR>          ..\\n\",\n",
      "+      \"26/09/2024  11:59    <DIR>          .ipynb_checkpoints\\n\",\n",
      "+      \"24/09/2024  11:03            63,256 00_Lecture00.ipynb\\n\",\n",
      "+      \"24/09/2024  10:59            37,102 03_Lecture03.ipynb\\n\",\n",
      "+      \"24/09/2024  10:59            24,327 04_Lecture04.ipynb\\n\",\n",
      "+      \"24/09/2024  10:59            57,557 05_Lecture05.ipynb\\n\",\n",
      "+      \"24/09/2024  10:59            41,793 06_Lecture06.ipynb\\n\",\n",
      "+      \"24/09/2024  10:59            33,207 07_Lecture07.ipynb\\n\",\n",
      "+      \"26/09/2024  11:38        68,406,896 Git-2.46.2-64-bit.exe\\n\",\n",
      "+      \"25/09/2024  22:55                57 hello.txt\\n\",\n",
      "+      \"24/09/2024  11:00    <DIR>          htmls\\n\",\n",
      "+      \"24/09/2024  20:48            73,185 jeanaime.iraguha-Day01-report.ipynb\\n\",\n",
      "+      \"26/09/2024  10:21            72,355 jeanaime.iraguha-Day02-report.ipynb\\n\",\n",
      "+      \"25/09/2024  21:59                44 output.txt\\n\",\n",
      "+      \"24/09/2024  11:00    <DIR>          pdfs\\n\",\n",
      "+      \"26/09/2024  13:54                 5 README.md\\n\",\n",
      "+      \"26/09/2024  13:54                 5 READMEaime.md\\n\",\n",
      "+      \"26/09/2024  12:04    <DIR>          simplestats\\n\",\n",
      "+      \"26/09/2024  19:46            41,974 version_control_local.ipynb\\n\",\n",
      "+      \"25/09/2024  22:34                85 your_file.txt\\n\",\n",
      "+      \"              15 File(s)     68,851,848 bytes\\n\",\n",
      "+      \"               6 Dir(s)  162,349,674,496 bytes free\\n\"\n",
      "      ]\n",
      "     }\n",
      "    ],\n",
      "    \"source\": [\n",
      "-    \"!tree\"\n",
      "+    \"ls \"\n",
      "    ]\n",
      "   },\n",
      "   {\n",
      "@@ -543,7 +502,7 @@\n",
      "   },\n",
      "   {\n",
      "    \"cell_type\": \"code\",\n",
      "-   \"execution_count\": 25,\n",
      "+   \"execution_count\": 33,\n",
      "    \"metadata\": {},\n",
      "    \"outputs\": [\n",
      "     {\n",
      "@@ -614,39 +573,11 @@\n",
      "   },\n",
      "   {\n",
      "    \"cell_type\": \"code\",\n",
      "-   \"execution_count\": 5,\n",
      "-   \"metadata\": {},\n",
      "-   \"outputs\": [\n",
      "-    {\n",
      "-     \"name\": \"stderr\",\n",
      "-     \"output_type\": \"stream\",\n",
      "-     \"text\": [\n",
      "-      \"Nothing specified, nothing added.\\n\",\n",
      "-      \"hint: Maybe you wanted to say 'git add .'?\\n\",\n",
      "-      \"hint: Disable this message with \\\"git config advice.addEmptyPathspec false\\\"\\n\"\n",
      "-     ]\n",
      "-    }\n",
      "-   ],\n",
      "-   \"source\": [\n",
      "-    \"! git add\\n\"\n",
      "-   ]\n",
      "-  },\n",
      "-  {\n",
      "-   \"cell_type\": \"code\",\n",
      "-   \"execution_count\": 7,\n",
      "+   \"execution_count\": 117,\n",
      "    \"metadata\": {},\n",
      "-   \"outputs\": [\n",
      "-    {\n",
      "-     \"name\": \"stderr\",\n",
      "-     \"output_type\": \"stream\",\n",
      "-     \"text\": [\n",
      "-      \"'touch' is not recognized as an internal or external command,\\n\",\n",
      "-      \"operable program or batch file.\\n\"\n",
      "-     ]\n",
      "-    }\n",
      "-   ],\n",
      "+   \"outputs\": [],\n",
      "    \"source\": [\n",
      "-    \"! touch README.md\"\n",
      "+    \"! echo \\\"\\\" > READMEaime.md\\n\"\n",
      "    ]\n",
      "   },\n",
      "   {\n",
      "@@ -670,10 +601,72 @@\n",
      "   },\n",
      "   {\n",
      "    \"cell_type\": \"code\",\n",
      "-   \"execution_count\": null,\n",
      "+   \"execution_count\": 121,\n",
      "    \"metadata\": {},\n",
      "-   \"outputs\": [],\n",
      "-   \"source\": []\n",
      "+   \"outputs\": [\n",
      "+    {\n",
      "+     \"name\": \"stdout\",\n",
      "+     \"output_type\": \"stream\",\n",
      "+     \"text\": [\n",
      "+      \"On branch master\\n\",\n",
      "+      \"\\n\",\n",
      "+      \"No commits yet\\n\",\n",
      "+      \"\\n\",\n",
      "+      \"Changes to be committed:\\n\",\n",
      "+      \"  (use \\\"git rm --cached <file>...\\\" to unstage)\\n\",\n",
      "+      \"\\tnew file:   .ipynb_checkpoints/00_Lecture00-checkpoint.ipynb\\n\",\n",
      "+      \"\\tnew file:   .ipynb_checkpoints/hello-checkpoint.txt\\n\",\n",
      "+      \"\\tnew file:   .ipynb_checkpoints/jeanaime.iraguha-Day01-report-checkpoint.ipynb\\n\",\n",
      "+      \"\\tnew file:   .ipynb_checkpoints/jeanaime.iraguha-Day02-report-checkpoint.ipynb\\n\",\n",
      "+      \"\\tnew file:   .ipynb_checkpoints/version_control_local-checkpoint.ipynb\\n\",\n",
      "+      \"\\tnew file:   00_Lecture00.ipynb\\n\",\n",
      "+      \"\\tnew file:   03_Lecture03.ipynb\\n\",\n",
      "+      \"\\tnew file:   04_Lecture04.ipynb\\n\",\n",
      "+      \"\\tnew file:   05_Lecture05.ipynb\\n\",\n",
      "+      \"\\tnew file:   06_Lecture06.ipynb\\n\",\n",
      "+      \"\\tnew file:   07_Lecture07.ipynb\\n\",\n",
      "+      \"\\tnew file:   Git-2.46.2-64-bit.exe\\n\",\n",
      "+      \"\\tnew file:   README.md\\n\",\n",
      "+      \"\\tnew file:   hello.txt\\n\",\n",
      "+      \"\\tnew file:   htmls/Lecture0.html\\n\",\n",
      "+      \"\\tnew file:   htmls/Lecture1.html\\n\",\n",
      "+      \"\\tnew file:   htmls/Lecture2.html\\n\",\n",
      "+      \"\\tnew file:   htmls/Lecture3.html\\n\",\n",
      "+      \"\\tnew file:   htmls/Lecture4.html\\n\",\n",
      "+      \"\\tnew file:   htmls/Lecture5.html\\n\",\n",
      "+      \"\\tnew file:   htmls/Lecture6.html\\n\",\n",
      "+      \"\\tnew file:   htmls/Lecture7.html\\n\",\n",
      "+      \"\\tnew file:   htmls/readme.md\\n\",\n",
      "+      \"\\tnew file:   jeanaime.iraguha-Day01-report.ipynb\\n\",\n",
      "+      \"\\tnew file:   jeanaime.iraguha-Day02-report.ipynb\\n\",\n",
      "+      \"\\tnew file:   output.txt\\n\",\n",
      "+      \"\\tnew file:   pdfs/Lecture0.pdf\\n\",\n",
      "+      \"\\tnew file:   pdfs/Lecture1.pdf\\n\",\n",
      "+      \"\\tnew file:   pdfs/Lecture2.pdf\\n\",\n",
      "+      \"\\tnew file:   pdfs/Lecture3.pdf\\n\",\n",
      "+      \"\\tnew file:   pdfs/Lecture4.pdf\\n\",\n",
      "+      \"\\tnew file:   pdfs/Lecture5.pdf\\n\",\n",
      "+      \"\\tnew file:   pdfs/Lecture6.pdf\\n\",\n",
      "+      \"\\tnew file:   pdfs/Lecture7.pdf\\n\",\n",
      "+      \"\\tnew file:   pdfs/readme.md\\n\",\n",
      "+      \"\\tnew file:   version_control_local.ipynb\\n\",\n",
      "+      \"\\tnew file:   your_file.txt\\n\",\n",
      "+      \"\\n\",\n",
      "+      \"Changes not staged for commit:\\n\",\n",
      "+      \"  (use \\\"git add <file>...\\\" to update what will be committed)\\n\",\n",
      "+      \"  (use \\\"git restore <file>...\\\" to discard changes in working directory)\\n\",\n",
      "+      \"\\tmodified:   version_control_local.ipynb\\n\",\n",
      "+      \"\\n\",\n",
      "+      \"Untracked files:\\n\",\n",
      "+      \"  (use \\\"git add <file>...\\\" to include in what will be committed)\\n\",\n",
      "+      \"\\tREADMEaime.md\\n\",\n",
      "+      \"\\n\"\n",
      "+     ]\n",
      "+    }\n",
      "+   ],\n",
      "+   \"source\": [\n",
      "+    \"! git status\"\n",
      "+   ]\n",
      "   },\n",
      "   {\n",
      "    \"cell_type\": \"markdown\",\n",
      "@@ -690,10 +683,12 @@\n",
      "   },\n",
      "   {\n",
      "    \"cell_type\": \"code\",\n",
      "-   \"execution_count\": null,\n",
      "+   \"execution_count\": 123,\n",
      "    \"metadata\": {},\n",
      "    \"outputs\": [],\n",
      "-   \"source\": []\n",
      "+   \"source\": [\n",
      "+    \"!git add READMEaime.md\"\n",
      "+   ]\n",
      "   },\n",
      "   {\n",
      "    \"cell_type\": \"markdown\",\n",
      "@@ -731,10 +726,69 @@\n",
      "   },\n",
      "   {\n",
      "    \"cell_type\": \"code\",\n",
      "-   \"execution_count\": null,\n",
      "+   \"execution_count\": 131,\n",
      "    \"metadata\": {},\n",
      "-   \"outputs\": [],\n",
      "-   \"source\": []\n",
      "+   \"outputs\": [\n",
      "+    {\n",
      "+     \"name\": \"stdout\",\n",
      "+     \"output_type\": \"stream\",\n",
      "+     \"text\": [\n",
      "+      \"On branch master\\n\",\n",
      "+      \"\\n\",\n",
      "+      \"No commits yet\\n\",\n",
      "+      \"\\n\",\n",
      "+      \"Changes to be committed:\\n\",\n",
      "+      \"  (use \\\"git rm --cached <file>...\\\" to unstage)\\n\",\n",
      "+      \"\\tnew file:   .ipynb_checkpoints/00_Lecture00-checkpoint.ipynb\\n\",\n",
      "+      \"\\tnew file:   .ipynb_checkpoints/hello-checkpoint.txt\\n\",\n",
      "+      \"\\tnew file:   .ipynb_checkpoints/jeanaime.iraguha-Day01-report-checkpoint.ipynb\\n\",\n",
      "+      \"\\tnew file:   .ipynb_checkpoints/jeanaime.iraguha-Day02-report-checkpoint.ipynb\\n\",\n",
      "+      \"\\tnew file:   .ipynb_checkpoints/version_control_local-checkpoint.ipynb\\n\",\n",
      "+      \"\\tnew file:   00_Lecture00.ipynb\\n\",\n",
      "+      \"\\tnew file:   03_Lecture03.ipynb\\n\",\n",
      "+      \"\\tnew file:   04_Lecture04.ipynb\\n\",\n",
      "+      \"\\tnew file:   05_Lecture05.ipynb\\n\",\n",
      "+      \"\\tnew file:   06_Lecture06.ipynb\\n\",\n",
      "+      \"\\tnew file:   07_Lecture07.ipynb\\n\",\n",
      "+      \"\\tnew file:   Git-2.46.2-64-bit.exe\\n\",\n",
      "+      \"\\tnew file:   README.md\\n\",\n",
      "+      \"\\tnew file:   READMEaime.md\\n\",\n",
      "+      \"\\tnew file:   hello.txt\\n\",\n",
      "+      \"\\tnew file:   htmls/Lecture0.html\\n\",\n",
      "+      \"\\tnew file:   htmls/Lecture1.html\\n\",\n",
      "+      \"\\tnew file:   htmls/Lecture2.html\\n\",\n",
      "+      \"\\tnew file:   htmls/Lecture3.html\\n\",\n",
      "+      \"\\tnew file:   htmls/Lecture4.html\\n\",\n",
      "+      \"\\tnew file:   htmls/Lecture5.html\\n\",\n",
      "+      \"\\tnew file:   htmls/Lecture6.html\\n\",\n",
      "+      \"\\tnew file:   htmls/Lecture7.html\\n\",\n",
      "+      \"\\tnew file:   htmls/readme.md\\n\",\n",
      "+      \"\\tnew file:   jeanaime.iraguha-Day01-report.ipynb\\n\",\n",
      "+      \"\\tnew file:   jeanaime.iraguha-Day02-report.ipynb\\n\",\n",
      "+      \"\\tnew file:   output.txt\\n\",\n",
      "+      \"\\tnew file:   pdfs/Lecture0.pdf\\n\",\n",
      "+      \"\\tnew file:   pdfs/Lecture1.pdf\\n\",\n",
      "+      \"\\tnew file:   pdfs/Lecture2.pdf\\n\",\n",
      "+      \"\\tnew file:   pdfs/Lecture3.pdf\\n\",\n",
      "+      \"\\tnew file:   pdfs/Lecture4.pdf\\n\",\n",
      "+      \"\\tnew file:   pdfs/Lecture5.pdf\\n\",\n",
      "+      \"\\tnew file:   pdfs/Lecture6.pdf\\n\",\n",
      "+      \"\\tnew file:   pdfs/Lecture7.pdf\\n\",\n",
      "+      \"\\tnew file:   pdfs/readme.md\\n\",\n",
      "+      \"\\tnew file:   version_control_local.ipynb\\n\",\n",
      "+      \"\\tnew file:   your_file.txt\\n\",\n",
      "+      \"\\n\",\n",
      "+      \"Changes not staged for commit:\\n\",\n",
      "+      \"  (use \\\"git add <file>...\\\" to update what will be committed)\\n\",\n",
      "+      \"  (use \\\"git restore <file>...\\\" to discard changes in working directory)\\n\",\n",
      "+      \"\\tmodified:   version_control_local.ipynb\\n\",\n",
      "+      \"\\n\"\n",
      "+     ]\n",
      "+    }\n",
      "+   ],\n",
      "+   \"source\": [\n",
      "+    \"! git status\\n\"\n",
      "+   ]\n",
      "   },\n",
      "   {\n",
      "    \"cell_type\": \"markdown\",\n",
      "@@ -783,10 +837,59 @@\n",
      "   },\n",
      "   {\n",
      "    \"cell_type\": \"code\",\n",
      "-   \"execution_count\": null,\n",
      "+   \"execution_count\": 1,\n",
      "    \"metadata\": {},\n",
      "-   \"outputs\": [],\n",
      "-   \"source\": []\n",
      "+   \"outputs\": [\n",
      "+    {\n",
      "+     \"name\": \"stdout\",\n",
      "+     \"output_type\": \"stream\",\n",
      "+     \"text\": [\n",
      "+      \"[master (root-commit) b77c28f] This is the first commit. It adds a readme file.\\n\",\n",
      "+      \" 38 files changed, 152040 insertions(+)\\n\",\n",
      "+      \" create mode 100644 .ipynb_checkpoints/00_Lecture00-checkpoint.ipynb\\n\",\n",
      "+      \" create mode 100644 .ipynb_checkpoints/hello-checkpoint.txt\\n\",\n",
      "+      \" create mode 100644 .ipynb_checkpoints/jeanaime.iraguha-Day01-report-checkpoint.ipynb\\n\",\n",
      "+      \" create mode 100644 .ipynb_checkpoints/jeanaime.iraguha-Day02-report-checkpoint.ipynb\\n\",\n",
      "+      \" create mode 100644 .ipynb_checkpoints/version_control_local-checkpoint.ipynb\\n\",\n",
      "+      \" create mode 100644 00_Lecture00.ipynb\\n\",\n",
      "+      \" create mode 100644 03_Lecture03.ipynb\\n\",\n",
      "+      \" create mode 100644 04_Lecture04.ipynb\\n\",\n",
      "+      \" create mode 100644 05_Lecture05.ipynb\\n\",\n",
      "+      \" create mode 100644 06_Lecture06.ipynb\\n\",\n",
      "+      \" create mode 100644 07_Lecture07.ipynb\\n\",\n",
      "+      \" create mode 100644 Git-2.46.2-64-bit.exe\\n\",\n",
      "+      \" create mode 100644 README.md\\n\",\n",
      "+      \" create mode 100644 READMEaime.md\\n\",\n",
      "+      \" create mode 100644 hello.txt\\n\",\n",
      "+      \" create mode 100644 htmls/Lecture0.html\\n\",\n",
      "+      \" create mode 100644 htmls/Lecture1.html\\n\",\n",
      "+      \" create mode 100644 htmls/Lecture2.html\\n\",\n",
      "+      \" create mode 100644 htmls/Lecture3.html\\n\",\n",
      "+      \" create mode 100644 htmls/Lecture4.html\\n\",\n",
      "+      \" create mode 100644 htmls/Lecture5.html\\n\",\n",
      "+      \" create mode 100644 htmls/Lecture6.html\\n\",\n",
      "+      \" create mode 100644 htmls/Lecture7.html\\n\",\n",
      "+      \" create mode 100644 htmls/readme.md\\n\",\n",
      "+      \" create mode 100644 jeanaime.iraguha-Day01-report.ipynb\\n\",\n",
      "+      \" create mode 100644 jeanaime.iraguha-Day02-report.ipynb\\n\",\n",
      "+      \" create mode 100644 output.txt\\n\",\n",
      "+      \" create mode 100644 pdfs/Lecture0.pdf\\n\",\n",
      "+      \" create mode 100644 pdfs/Lecture1.pdf\\n\",\n",
      "+      \" create mode 100644 pdfs/Lecture2.pdf\\n\",\n",
      "+      \" create mode 100644 pdfs/Lecture3.pdf\\n\",\n",
      "+      \" create mode 100644 pdfs/Lecture4.pdf\\n\",\n",
      "+      \" create mode 100644 pdfs/Lecture5.pdf\\n\",\n",
      "+      \" create mode 100644 pdfs/Lecture6.pdf\\n\",\n",
      "+      \" create mode 100644 pdfs/Lecture7.pdf\\n\",\n",
      "+      \" create mode 100644 pdfs/readme.md\\n\",\n",
      "+      \" create mode 100644 version_control_local.ipynb\\n\",\n",
      "+      \" create mode 100644 your_file.txt\\n\"\n",
      "+     ]\n",
      "+    }\n",
      "+   ],\n",
      "+   \"source\": [\n",
      "+    \"! git commit -m \\\"This is the first commit. It adds a readme file.\\\" \\n\"\n",
      "+   ]\n",
      "   },\n",
      "   {\n",
      "    \"cell_type\": \"markdown\",\n",
      "@@ -803,10 +906,26 @@\n",
      "   },\n",
      "   {\n",
      "    \"cell_type\": \"code\",\n",
      "-   \"execution_count\": null,\n",
      "+   \"execution_count\": 1,\n",
      "    \"metadata\": {},\n",
      "-   \"outputs\": [],\n",
      "-   \"source\": []\n",
      "+   \"outputs\": [\n",
      "+    {\n",
      "+     \"name\": \"stdout\",\n",
      "+     \"output_type\": \"stream\",\n",
      "+     \"text\": [\n",
      "+      \"On branch master\\n\",\n",
      "+      \"Changes not staged for commit:\\n\",\n",
      "+      \"  (use \\\"git add <file>...\\\" to update what will be committed)\\n\",\n",
      "+      \"  (use \\\"git restore <file>...\\\" to discard changes in working directory)\\n\",\n",
      "+      \"\\tmodified:   version_control_local.ipynb\\n\",\n",
      "+      \"\\n\",\n",
      "+      \"no changes added to commit (use \\\"git add\\\" and/or \\\"git commit -a\\\")\\n\"\n",
      "+     ]\n",
      "+    }\n",
      "+   ],\n",
      "+   \"source\": [\n",
      "+    \"! git status\"\n",
      "+   ]\n",
      "   },\n",
      "   {\n",
      "    \"cell_type\": \"markdown\",\n"
     ]
    },
    {
     "name": "stderr",
     "output_type": "stream",
     "text": [
      "warning: in the working copy of 'version_control_local.ipynb', LF will be replaced by CRLF the next time Git touches it\n"
     ]
    }
   ],
   "source": [
    "! git diff"
   ]
  },
  {
   "cell_type": "code",
   "execution_count": 13,
   "metadata": {},
   "outputs": [
    {
     "name": "stdout",
     "output_type": "stream",
     "text": [
      "Comparing files README.md and READMEAIME.MD\n",
      "FC: no differences encountered\n",
      "\n"
     ]
    }
   ],
   "source": [
    "! fc  README.md READMEaime.md"
   ]
  },
  {
   "cell_type": "markdown",
   "metadata": {},
   "source": [
    "A summarized version of this output can be output with the `--stat` flag :\n",
    "\n",
    "```bash\n",
    "$ git diff --stat\n",
    "```"
   ]
  },
  {
   "cell_type": "code",
   "execution_count": 1,
   "metadata": {},
   "outputs": [
    {
     "name": "stdout",
     "output_type": "stream",
     "text": [
      " version_control_local.ipynb | 1106 +++++++++++++++++++++++++++++++++++++------\n",
      " 1 file changed, 965 insertions(+), 141 deletions(-)\n"
     ]
    },
    {
     "name": "stderr",
     "output_type": "stream",
     "text": [
      "warning: in the working copy of 'version_control_local.ipynb', LF will be replaced by CRLF the next time Git touches it\n"
     ]
    }
   ],
   "source": [
    "! git diff --stat"
   ]
  },
  {
   "cell_type": "markdown",
   "metadata": {},
   "source": [
    "To see only the differences in a certain path, try:\n",
    "\n",
    "```bash\n",
    "$ git diff HEAD -- [path]\n",
    "```"
   ]
  },
  {
   "cell_type": "code",
   "execution_count": 41,
   "metadata": {},
   "outputs": [
    {
     "name": "stdout",
     "output_type": "stream",
     "text": [
      "C:\\Users\\J.AIME-IRAGUHA\\Desktop\\python study\\python_course_colab_notebooks-main\n"
     ]
    }
   ],
   "source": [
    "!cd\n"
   ]
  },
  {
   "cell_type": "code",
   "execution_count": 23,
   "metadata": {},
   "outputs": [],
   "source": [
    "! git diff HEAD -- hello.txt"
   ]
  },
  {
   "cell_type": "markdown",
   "metadata": {},
   "source": [
    "To see what IS staged for commit (that is, what will be committed if you\n",
    "type git commit without the -a flag), you can try :\n",
    "```bash\n",
    "$ git diff --cached\n",
    "```"
   ]
  },
  {
   "cell_type": "code",
   "execution_count": 25,
   "metadata": {},
   "outputs": [],
   "source": [
    "! git diff --cached"
   ]
  },
  {
   "cell_type": "markdown",
   "metadata": {
    "id": "181eb736"
   },
   "source": [
    "## git log : Viewing the History\n",
    "\n",
    "A log of the commit messages is kept by the repository and can be\n",
    "reviewed with the log command.\n",
    "\n",
    "```bash\n",
    "    $ git log       \n",
    "   commit 664867c42a05461702388310155b785a287d0308 (HEAD -> master)\n",
    "    Author: Techni Preneurs <ai.technipreneurs@gmail.com>\n",
    "    Date:   Wed Sep 11 20:31:07 2024 +0200\n",
    "\n",
    "        This is the first commit. It adds a readme file.    \n",
    "```\n"
   ]
  },
  {
   "cell_type": "code",
   "execution_count": 27,
   "metadata": {},
   "outputs": [
    {
     "name": "stdout",
     "output_type": "stream",
     "text": [
      "commit b77c28f77306ee34ab76e5449b0c7ed2ed2b934e\n",
      "Author: Jean Aime IRAGUHA <jeanaime.iraguha@aims.ac.rw>\n",
      "Date:   Thu Sep 26 18:36:42 2024 +0200\n",
      "\n",
      "    This is the first commit. It adds a readme file.\n"
     ]
    }
   ],
   "source": [
    "! git log -1"
   ]
  },
  {
   "cell_type": "markdown",
   "metadata": {},
   "source": [
    "There are some useful flags for this command, such as\n",
    "\n",
    "    -p\n",
    "    -3\n",
    "    --stat\n",
    "    --oneline\n",
    "    --graph\n",
    "    --pretty=short/full/fuller/oneline\n",
    "    --since=X.minutes/hours/days/weeks/months/years or YY-MM-DD-HH:MM\n",
    "    --until=X.minutes/hours/days/weeks/months/years or YY-MM-DD-HH:MM\n",
    "    --author=<pattern>"
   ]
  },
  {
   "cell_type": "markdown",
   "metadata": {
    "id": "8f0edce4"
   },
   "source": [
    "## git reset : Unstaging a staged file\n",
    "\n",
    "There are a number of ways that you may accidentally stage a file that\n",
    "you don't want to commit.  Create a file called `temp_notes` that\n",
    "describes what you had for breakfast, and then add that file to your\n",
    "repo.  Check with `status` to see that it is added but not committed.\n",
    "\n",
    "You can now unstage that file with:\n",
    "\n",
    "```bash\n",
    "$ git reset temp_notes\n",
    "```\n",
    "\n",
    "Check with `status`."
   ]
  },
  {
   "cell_type": "code",
   "execution_count": 29,
   "metadata": {},
   "outputs": [
    {
     "name": "stderr",
     "output_type": "stream",
     "text": [
      "fatal: ambiguous argument 'temp_notes': unknown revision or path not in the working tree.\n",
      "Use '--' to separate paths from revisions, like this:\n",
      "'git <command> [<revision>...] -- [<file>...]'\n"
     ]
    }
   ],
   "source": [
    "! git reset temp_notes"
   ]
  },
  {
   "cell_type": "markdown",
   "metadata": {
    "id": "f949535f"
   },
   "source": [
    "## git checkout : Discarding unstaged modifications (git checkout has other purposes)\n",
    "\n",
    "Perhaps you have made a number of changes that you realize are not\n",
    "going anywhere.  Add a line to `README.md` that describes your dinner\n",
    "last night.  Check with `status` to see that the file is changed and\n",
    "ready to be added.\n",
    "\n",
    "You can now return to previous checked in version with:\n",
    "```bash\n",
    "$ git checkout -- README.md\n",
    "```\n",
    "Check with `status` and take a look at the file."
   ]
  },
  {
   "cell_type": "code",
   "execution_count": null,
   "metadata": {},
   "outputs": [],
   "source": []
  },
  {
   "cell_type": "markdown",
   "metadata": {
    "id": "7b00e29e"
   },
   "source": [
    "## git rm : Removing files\n",
    "\n",
    "There are a variety of reasons you way want to remove a file from the\n",
    "repository after it has been committed.  Create a file called `READYOU.md` with the first names of all your immediate family members, and add/commit it to the repository.\n",
    "\n",
    "You can now remove the file from the repository with:\n",
    "\n",
    "```bash\n",
    "$ git rm READYOU.md\n",
    "```\n",
    "List the directory to see that you have no file named `READYOU.md`. Use `status` to determine if you need any additional steps."
   ]
  },
  {
   "cell_type": "code",
   "execution_count": 31,
   "metadata": {},
   "outputs": [
    {
     "name": "stderr",
     "output_type": "stream",
     "text": [
      "fatal: pathspec 'READYOU.md' did not match any files\n"
     ]
    }
   ],
   "source": [
    "!git rm READYOU.md"
   ]
  },
  {
   "cell_type": "markdown",
   "metadata": {},
   "source": [
    "What if you delete a file in the shell without `git rm`? Try deleting `README.md`\n",
    "```bash\n",
    "$ rm README.md\n",
    "```\n",
    "\n",
    "\n"
   ]
  },
  {
   "cell_type": "code",
   "execution_count": null,
   "metadata": {},
   "outputs": [],
   "source": []
  },
  {
   "cell_type": "markdown",
   "metadata": {},
   "source": [
    "What does `git status` say?  Oops! How can you recover this important\n",
    "file?\n",
    "```bash\n",
    "$ git checkout -- README.md\n",
    "```"
   ]
  },
  {
   "cell_type": "code",
   "execution_count": null,
   "metadata": {},
   "outputs": [],
   "source": []
  },
  {
   "cell_type": "markdown",
   "metadata": {
    "id": "1d3ecc05"
   },
   "source": [
    "## git revert : the promised \"undo\" button\n",
    "\n",
    "It is possible that after many commits, you decide that you really want to **rollback** a set of commits and start over.  It is easy to revert your code to a previous version.\n",
    "\n",
    "You can use `git log` and `git diff` to explore your history and determine which version you are interested in.  Choose a version and note the *hash* for that version. (Let's assume `abc456`)\n",
    "\n",
    "```bash\n",
    "$ git revert abc456\n",
    "```\n",
    "\n",
    "**Importantly,** this will not erase the intervening commits.  This will create a new commit that is changed from the previous commit by a change that will recreate the desired version.  This retains a complete provenance of your software, and be compared to the prohibition in removing pages from a lab notebook."
   ]
  },
  {
   "cell_type": "code",
   "execution_count": 33,
   "metadata": {},
   "outputs": [
    {
     "name": "stderr",
     "output_type": "stream",
     "text": [
      "fatal: bad revision 'abc456'\n"
     ]
    }
   ],
   "source": [
    "!git revert abc456"
   ]
  },
  {
   "cell_type": "markdown",
   "metadata": {},
   "source": [
    "## Visualize Git Log Tree\n",
    "For this section, you can read the necessary information [here](https://tech.serhatteker.com/post/2021-02/git-log-tree/). The idea is just to make your commits a bit fancy. To really see the beauty of it, try to play with your files and do quite a number of commits.\n",
    "\n",
    "```bash\n",
    "$ git log\n",
    "```\n",
    "\n",
    "or \n",
    "\n",
    "```bash\n",
    "$ git log --pretty=oneline\n",
    "```\n",
    "\n",
    "or\n",
    "\n",
    "```bash\n",
    "$ git log --graph --pretty='%Cred%h%Creset -%C(auto)%d%Creset %s %Cgreen(%cr) %C(bold blue)<%an>%Creset' --all\n",
    "```"
   ]
  },
  {
   "cell_type": "code",
   "execution_count": null,
   "metadata": {},
   "outputs": [],
   "source": []
  },
  {
   "cell_type": "markdown",
   "metadata": {
    "id": "a60621d6"
   },
   "source": [
    "* * * *\n",
    "### Exercise :\n",
    "\n",
    "1. Create 5 files in your directory with one line of content in each\n",
    "   file."
   ]
  },
  {
   "cell_type": "code",
   "execution_count": 47,
   "metadata": {},
   "outputs": [],
   "source": [
    "!echo \"Content for file 1\" > aime1.txt\n",
    "!echo \"Content for file 2\" > aime2.txt\n",
    "!echo \"Content for file 3\" > aime3.txt\n",
    "!echo \"Content for file 4\" > aime4.txt\n",
    "!echo \"Content for file 5\" > aime5.txt\n"
   ]
  },
  {
   "cell_type": "markdown",
   "metadata": {
    "id": "a60621d6"
   },
   "source": [
    "2. Commit the files to the repository."
   ]
  },
  {
   "cell_type": "code",
   "execution_count": 53,
   "metadata": {},
   "outputs": [
    {
     "name": "stderr",
     "output_type": "stream",
     "text": [
      "warning: in the working copy of 'version_control_local.ipynb', LF will be replaced by CRLF the next time Git touches it\n"
     ]
    },
    {
     "name": "stdout",
     "output_type": "stream",
     "text": [
      "[master 7248c00] i Added 5 files with one line of content in each\n",
      " 1 file changed, 25 insertions(+), 3 deletions(-)\n"
     ]
    }
   ],
   "source": [
    "!git add .\n",
    "!git commit -m \"i Added 5 files with one line of Scontent in each\""
   ]
  },
  {
   "cell_type": "markdown",
   "metadata": {
    "id": "a60621d6"
   },
   "source": [
    "3. Change 2 of the 5 files and commit them."
   ]
  },
  {
   "cell_type": "code",
   "execution_count": 57,
   "metadata": {},
   "outputs": [
    {
     "name": "stdout",
     "output_type": "stream",
     "text": [
      "[master 2f37e26] Updated file1.txt and file2.txt with new content\n",
      " 2 files changed, 2 insertions(+), 2 deletions(-)\n"
     ]
    }
   ],
   "source": [
    "!echo \"Updated content for file 1\" > aime1.txt\n",
    "!echo \"Updated content for file 2\" > aime2.txt\n",
    "!git add aime1.txt aime2.txt\n",
    "!git commit -m \"Updated file1.txt and file2.txt with new content\""
   ]
  },
  {
   "cell_type": "markdown",
   "metadata": {
    "id": "a60621d6"
   },
   "source": [
    "4. Undo the changes in step 3."
   ]
  },
  {
   "cell_type": "code",
   "execution_count": null,
   "metadata": {},
   "outputs": [],
   "source": []
  },
  {
   "cell_type": "markdown",
   "metadata": {
    "id": "a60621d6"
   },
   "source": [
    "5. Print out the last entry in the log."
   ]
  },
  {
   "cell_type": "markdown",
   "metadata": {
    "id": "a60621d6"
   },
   "source": [
    "    \n",
    "* * * *"
   ]
  },
  {
   "cell_type": "markdown",
   "metadata": {
    "id": "15b9e659"
   },
   "source": [
    "## Resources\n",
    "\n",
    "1. [git book](http://git-scm.com/book) - Free and Open"
   ]
  }
 ],
 "metadata": {
  "colab": {
   "provenance": []
  },
  "kernelspec": {
   "display_name": "Python 3 (ipykernel)",
   "language": "python",
   "name": "python3"
  },
  "language_info": {
   "codemirror_mode": {
    "name": "ipython",
    "version": 3
   },
   "file_extension": ".py",
   "mimetype": "text/x-python",
   "name": "python",
   "nbconvert_exporter": "python",
   "pygments_lexer": "ipython3",
   "version": "3.12.4"
  }
 },
 "nbformat": 4,
 "nbformat_minor": 4
}
