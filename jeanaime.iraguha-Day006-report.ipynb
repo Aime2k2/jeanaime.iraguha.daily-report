{
 "cells": [
  {
   "cell_type": "markdown",
   "id": "3c23ab1b-5706-4e41-a892-a1e331ad44c4",
   "metadata": {},
   "source": [
    "# Practical Exercises"
   ]
  },
  {
   "cell_type": "markdown",
   "id": "d3eef143-5fbe-4ea1-8f24-23b47427e52f",
   "metadata": {},
   "source": [
    "#### Exercises 1"
   ]
  },
  {
   "cell_type": "code",
   "execution_count": 24,
   "id": "6a64a12c-d01f-4d6c-a6f1-c5793cfee500",
   "metadata": {},
   "outputs": [
    {
     "name": "stdin",
     "output_type": "stream",
     "text": [
      "Enter the value of n : 4\n"
     ]
    },
    {
     "name": "stdout",
     "output_type": "stream",
     "text": [
      "Sum of odd expression: 10\n"
     ]
    }
   ],
   "source": [
    "n = int(input(\"Enter the value of n :\"))\n",
    "total = 0\n",
    "for i in range(n):\n",
    "    if i % 2 != 0:\n",
    "        total += (i + 3)\n",
    "print(\"Sum of odd expression:\",total)\n"
   ]
  },
  {
   "cell_type": "code",
   "execution_count": 15,
   "id": "15d3bca5-09cd-4035-b365-ba06957a7aaa",
   "metadata": {},
   "outputs": [
    {
     "name": "stdin",
     "output_type": "stream",
     "text": [
      "Enter the value of n : 6\n"
     ]
    },
    {
     "name": "stdout",
     "output_type": "stream",
     "text": [
      "The product of even number is  315\n"
     ]
    }
   ],
   "source": [
    "n = int(input(\"Enter the value of n :\"))\n",
    "product=1\n",
    "for i in range(n):n\n",
    "    if i%2==0:\n",
    "       product *=(i+3)\n",
    "print(\"The product of even number is \", product)\n",
    "    \n",
    "            "
   ]
  },
  {
   "cell_type": "markdown",
   "id": "e95eab24-e6ec-4657-8205-1d8c8299f655",
   "metadata": {},
   "source": [
    "2. Write a program that reads the number of the day of the week (from 0 to 6). If it is a\r\n",
    "working day, then the program will write the name of the corresponding day. Otherwise,\r\n",
    "it will write the word \"Weekend\"."
   ]
  },
  {
   "cell_type": "code",
   "execution_count": 43,
   "id": "ae04bcf9-d250-448d-8fdb-edf2179a7650",
   "metadata": {},
   "outputs": [
    {
     "name": "stdin",
     "output_type": "stream",
     "text": [
      "enter week day from 0 to 6: 5\n"
     ]
    },
    {
     "name": "stdout",
     "output_type": "stream",
     "text": [
      "Weekend\n"
     ]
    }
   ],
   "source": [
    "Week_days= int(input(\"enter week day from 0 to 6:\"))\n",
    "if Week_days==0:\n",
    "   print(\"Monday\")\n",
    "elif  Week_days==1:\n",
    "    print(\"Tuesday\")\n",
    "elif  Week_days==2:\n",
    "    print(\"wednesday\")\n",
    "elif  Week_days==3:\n",
    "    print(\"Thusday\")\n",
    "elif  Week_days==4:\n",
    "    print(\"friday\")\n",
    "else:\n",
    "  print(\"Weekend\")  \n",
    "        \n",
    "        \n",
    "        \n",
    "    "
   ]
  },
  {
   "cell_type": "markdown",
   "id": "5e7f6396-24e5-4f9d-85aa-c18849cad6e6",
   "metadata": {},
   "source": [
    "3. Make a program that, given a month number (from 0 to 11), indicates how many days it\n",
    "has (28, 30 or 31), ignoring the leap years.\n"
   ]
  },
  {
   "cell_type": "code",
   "execution_count": 50,
   "id": "3d35a88f-8dce-4864-af3f-b339d22dede4",
   "metadata": {},
   "outputs": [
    {
     "name": "stdin",
     "output_type": "stream",
     "text": [
      "Enter the month from 0 to 11: 4\n"
     ]
    },
    {
     "name": "stdout",
     "output_type": "stream",
     "text": [
      "Number of days in month 4: 31\n"
     ]
    }
   ],
   "source": [
    "month = int(input(\"Enter the month from 0 to 11:\"))\n",
    "days = [31, 28, 31, 30, 31, 30, 31, 31, 30, 31, 30, 31]\n",
    "\n",
    "if 0 <= month <= 11:\n",
    "    print(f\"Number of days in month {month}: {days[month]}\")\n",
    "else:\n",
    "    print(\"Invalid month number. Please enter a number between 0 and 11.\")\n",
    "\n",
    "\n"
   ]
  },
  {
   "cell_type": "markdown",
   "id": "9e469aba-3685-49e6-943c-3e66db5b4ee5",
   "metadata": {},
   "source": [
    "4. Write two versions of python code that displays your name 3 times. One version with a\n",
    "\"for loop\" and another version with a \"while loop\"."
   ]
  },
  {
   "cell_type": "code",
   "execution_count": 53,
   "id": "caa1f971-1e35-4125-9c35-09c0b256b4c5",
   "metadata": {},
   "outputs": [
    {
     "name": "stdout",
     "output_type": "stream",
     "text": [
      "Aime\n",
      "Aime\n",
      "Aime\n"
     ]
    }
   ],
   "source": [
    "i=1\n",
    "while (i <=3):\n",
    "    print(\"Aime\")\n",
    "    i=i+1\n",
    "\n"
   ]
  },
  {
   "cell_type": "code",
   "execution_count": 61,
   "id": "d4168b9f-e3d9-450d-880e-2eeac891a35a",
   "metadata": {},
   "outputs": [
    {
     "name": "stdout",
     "output_type": "stream",
     "text": [
      "Aime\n",
      "Aime\n",
      "Aime\n"
     ]
    }
   ],
   "source": [
    "for j in range(3):\n",
    "    print(\"Aime\")\n"
   ]
  },
  {
   "cell_type": "markdown",
   "id": "5c5da30c-d7f0-4fad-9824-fa42795e6663",
   "metadata": {},
   "source": [
    "5. Given two numbers $a_0$ and $a_1$, the Fibonacci sequence they generate is constructed from\r\n",
    "the recursion formula an+1 = an + an−1. Calculate the first 15 terms of a Fibonacci\r\n",
    "sequence, asking the user the initial values.\r"
   ]
  },
  {
   "cell_type": "code",
   "execution_count": 73,
   "id": "d283168a-a8f9-4bc8-b899-87344967c57d",
   "metadata": {
    "scrolled": true
   },
   "outputs": [
    {
     "name": "stdin",
     "output_type": "stream",
     "text": [
      "Enter the first number (a0):  2\n",
      "Enter the second number (a1):  3\n",
      "Enter the terms you want: 15\n"
     ]
    },
    {
     "name": "stdout",
     "output_type": "stream",
     "text": [
      "The first 15 terms of the Fibonacci sequence are:\n",
      "[2, 3, 5, 8, 13, 21, 34, 55, 89, 144, 233, 377, 610, 987, 1597]\n"
     ]
    }
   ],
   "source": [
    "\n",
    "a0 = int(input(\"Enter the first number (a0): \"))\n",
    "a1 = int(input(\"Enter the second number (a1): \"))\n",
    "n_terms=int(input(\"Enter the terms you want:\"))\n",
    "fibonacci_sequence = [a0, a1]\n",
    "for i in range(2, n_terms):\n",
    "    next_term = fibonacci_sequence[-1] + fibonacci_sequence[-2]\n",
    "    fibonacci_sequence.append(next_term)\n",
    "print(\"The first 15 terms of the Fibonacci sequence are:\")\n",
    "print(fibonacci_sequence)\n",
    "\n",
    "\n",
    "\n"
   ]
  },
  {
   "cell_type": "markdown",
   "id": "ce015a03-35cd-41bf-842d-2db8935cbf66",
   "metadata": {},
   "source": [
    "6.Compute the first 30 terms of the sequence defined by $ 2x_{n+2} − x_{n+1} − 6x_{n} = 0 $sequence,\r\n",
    "given any two initial values x0 and x1\r"
   ]
  },
  {
   "cell_type": "code",
   "execution_count": 84,
   "id": "831c2d19-8a53-4e3f-a355-5333d30d8f3a",
   "metadata": {},
   "outputs": [
    {
     "name": "stdin",
     "output_type": "stream",
     "text": [
      "Enter the first number (x0):  2\n",
      "Enter the second number (x1):  3\n",
      "Enter the terms you want: 10\n"
     ]
    },
    {
     "name": "stdout",
     "output_type": "stream",
     "text": [
      "The first  terms of the sequence are:\n",
      "[2, 3, 7.5, 12.75, 28.875, 52.6875, 112.96875, 214.546875, 446.1796875, 866.73046875, 1771.904296875, 3486.1435546875, 7058.78466796875, 13987.822998046875, 28170.265502929688]\n"
     ]
    }
   ],
   "source": [
    "x0 = int(input(\"Enter the first number (x0): \"))\n",
    "x1 = int(input(\"Enter the second number (x1): \"))\n",
    "n_term=int(input(\"Enter the terms you want:\"))\n",
    "sequence = [x0, x1]\n",
    "for i in range(2, n_terms):\n",
    "    next_terms = (sequence[-1] + (6*sequence[-2]))/2\n",
    "    sequence.append(next_terms)\n",
    "print(\"The first  terms of the sequence are:\")\n",
    "print(sequence)\n"
   ]
  },
  {
   "cell_type": "markdown",
   "id": "e10e7115-c02e-48f3-8e42-5e943bbd23f7",
   "metadata": {},
   "source": [
    "7. a) Write python code to determine whether or not a year is a leap year. Be sure you\n",
    "know what a leap year is.\n",
    "\n"
   ]
  },
  {
   "cell_type": "code",
   "execution_count": 91,
   "id": "c5d749a0-9ab1-460a-88e5-8d9e81ddbded",
   "metadata": {},
   "outputs": [
    {
     "name": "stdin",
     "output_type": "stream",
     "text": [
      "Enter the year: 2028\n"
     ]
    },
    {
     "name": "stdout",
     "output_type": "stream",
     "text": [
      "the year 2028 is a leap year\n"
     ]
    }
   ],
   "source": [
    "year=int(input(\"Enter the year:\"))\n",
    "if year % 4 == 0 and  year % 100 !=0 or year % 400 == 0:\n",
    "    print(f\"the year {year} is a leap year\")\n",
    "else:\n",
    "    print(\"it is not a leap year\")\n",
    "\n",
    "    \n"
   ]
  },
  {
   "cell_type": "markdown",
   "id": "6bd00bf0-7dc2-441e-befb-3b3a68a9c8e6",
   "metadata": {},
   "source": [
    "\n",
    "  b) Write the code using only logical operators, i.e. no conditional branching."
   ]
  },
  {
   "cell_type": "code",
   "execution_count": 152,
   "id": "fcc3d87d-efab-470d-bfed-2a58ce75c13d",
   "metadata": {},
   "outputs": [
    {
     "name": "stdin",
     "output_type": "stream",
     "text": [
      "Enter thhe value of :  34\n"
     ]
    },
    {
     "name": "stdout",
     "output_type": "stream",
     "text": [
      "13686\n"
     ]
    }
   ],
   "source": [
    "n=int(input(\"Enter thhe value of : \" ))\n",
    "sum_squares=1\n",
    "for k in range(1, n + 1):\n",
    "    sum_squares += k**2\n",
    "print(sum_squares)\n",
    "\n",
    "\n"
   ]
  },
  {
   "cell_type": "markdown",
   "id": "089842fa-e7e6-4821-906c-7d4cc0ab442e",
   "metadata": {},
   "source": [
    "8. a) Write python code that computes the sum of the square of the first n natural numbers.\r\n",
    "One version with a \"for loop\" and another version with a \"while loop\"\n",
    ".\r\n",
    "b) Write python code that prints, for a natural number M, the smallest natural number\r\n",
    "n such th$ a^ 1\r\n",
    "2^ + 22 +· ·^·+n\r\n",
    "$2 ≥ M. One version with a \"for loop\" and another version\r\n",
    "with a \"while loop\"."
   ]
  },
  {
   "cell_type": "code",
   "execution_count": 100,
   "id": "6056164a-3bf9-4872-bedc-4dea7e8efc0d",
   "metadata": {},
   "outputs": [
    {
     "name": "stdin",
     "output_type": "stream",
     "text": [
      "Enter the value of M:  10\n"
     ]
    },
    {
     "name": "stdout",
     "output_type": "stream",
     "text": [
      "The smallest natural number n such that the sum of squares is at least 10 is 3\n"
     ]
    }
   ],
   "source": [
    "# For loop version\n",
    "M = int(input(\"Enter the value of M: \"))\n",
    "sum_of_squares = 0\n",
    "n = 0\n",
    "for i in range(1, M + 1):\n",
    "    sum_of_squares += i ** 2\n",
    "    if sum_of_squares >= M:\n",
    "        n = i\n",
    "        break\n",
    "print(f\"The smallest natural number n such that the sum of squares is at least {M} is {n}\")\n"
   ]
  },
  {
   "cell_type": "code",
   "execution_count": 102,
   "id": "2cf52e11-6998-4e24-8b77-4592f1204e2f",
   "metadata": {},
   "outputs": [
    {
     "name": "stdin",
     "output_type": "stream",
     "text": [
      "Enter the value of M:  56\n"
     ]
    },
    {
     "name": "stdout",
     "output_type": "stream",
     "text": [
      "The smallest natural number n such that the sum of squares is at least 56 is 6\n"
     ]
    }
   ],
   "source": [
    "# While loop version\n",
    "M = int(input(\"Enter the value of M: \"))\n",
    "sum_of_squares = 0\n",
    "n = 0 \n",
    "i = 1\n",
    "while sum_of_squares < M:\n",
    "    sum_of_squares += i ** 2\n",
    "    n = i\n",
    "    i += 1\n",
    "print(f\"The smallest natural number n such that the sum of squares is at least {M} is {n}\")\n"
   ]
  },
  {
   "cell_type": "markdown",
   "id": "03f74b88-9cbb-44cb-9f62-fab19d694bb0",
   "metadata": {},
   "source": [
    "# Question 10\n"
   ]
  },
  {
   "cell_type": "code",
   "execution_count": 167,
   "id": "a418e89c-079e-4124-9989-65e6bd6bcba5",
   "metadata": {},
   "outputs": [
    {
     "name": "stdin",
     "output_type": "stream",
     "text": [
      "Enter a natural number N:  4\n"
     ]
    },
    {
     "name": "stdout",
     "output_type": "stream",
     "text": [
      "1 x 1 = 1\n",
      "1 x 2 = 2\n",
      "1 x 3 = 3\n",
      "1 x 4 = 4\n",
      "\n",
      "2 x 1 = 2\n",
      "2 x 2 = 4\n",
      "2 x 3 = 6\n",
      "2 x 4 = 8\n",
      "\n",
      "3 x 1 = 3\n",
      "3 x 2 = 6\n",
      "3 x 3 = 9\n",
      "3 x 4 = 12\n",
      "\n",
      "4 x 1 = 4\n",
      "4 x 2 = 8\n",
      "4 x 3 = 12\n",
      "4 x 4 = 16\n",
      "\n"
     ]
    }
   ],
   "source": [
    "# Ask the user for the value of N\n",
    "N = int(input(\"Enter a natural number N: \"))\n",
    "\n",
    "# Print the multiplication table up to N\n",
    "for i in range(1, N + 1):\n",
    "    for j in range(1, N + 1):\n",
    "        print(f\"{i} x {j} = {i * j}\")\n",
    "    print()  # Print a new line after each table\n"
   ]
  },
  {
   "cell_type": "markdown",
   "id": "fe8fbb95-062a-459c-857d-7ea19777fb17",
   "metadata": {},
   "source": [
    "# Question 11"
   ]
  },
  {
   "cell_type": "code",
   "execution_count": null,
   "id": "22e6c740-8084-4424-b31f-2ac05392e524",
   "metadata": {},
   "outputs": [],
   "source": [
    "import math\n",
    "\n",
    "# Ask the user for a float value\n",
    "x = float(input(\"Enter a float value: \"))\n",
    "\n",
    "# Calculate the floor value\n",
    "floor_value = math.floor(x)\n",
    "\n",
    "# Print the floor value\n",
    "print(f\"The floor of {x} is {floor_value}\")\n"
   ]
  },
  {
   "cell_type": "markdown",
   "id": "5dd4d5fc-025b-4e2e-add0-56d46b36f9e8",
   "metadata": {},
   "source": [
    "# Question 12"
   ]
  },
  {
   "cell_type": "code",
   "execution_count": null,
   "id": "29730ce8-267a-473b-8967-607b12e50bf9",
   "metadata": {},
   "outputs": [],
   "source": [
    "while True:\n",
    "    # Ask the user for the coordinates\n",
    "    x = float(input(\"Enter the x-coordinate (or type 'quit' to exit): \"))\n",
    "    y = float(input(\"Enter the y-coordinate (or type 'quit' to exit): \"))\n",
    "\n",
    "    # Determine the quadrant or axis\n",
    "    if x == 0 and y == 0:\n",
    "        print(\"The point is at the origin.\")\n",
    "    elif x == 0:\n",
    "        print(\"The point lies on the y-axis.\")\n",
    "    elif y == 0:\n",
    "        print(\"The point lies on the x-axis.\")\n",
    "    elif x > 0 and y > 0:\n",
    "        print(\"The point lies in the 1st quadrant.\")\n",
    "    elif x < 0 and y > 0:\n",
    "        print(\"The point lies in the 2nd quadrant.\")\n",
    "    elif x < 0 and y < 0:\n",
    "        print(\"The point lies in the 3rd quadrant.\")\n",
    "    elif x > 0 and y < 0:\n",
    "        print(\"The point lies in the 4th quadrant.\")\n",
    "\n",
    "    # Ask if the user wants to continue\n",
    "    continue_prompt = input(\"Do you want to enter another point? (yes/no): \")\n",
    "    if continue_prompt.lower() != 'yes':\n",
    "        break\n"
   ]
  },
  {
   "cell_type": "markdown",
   "id": "239207ce-185a-4b0f-8170-d7136f4783d9",
   "metadata": {},
   "source": [
    "# Question 13"
   ]
  },
  {
   "cell_type": "code",
   "execution_count": 155,
   "id": "948e2b31-4b2e-411d-a11a-5d096520be75",
   "metadata": {},
   "outputs": [
    {
     "name": "stdin",
     "output_type": "stream",
     "text": [
      "Enter an integer between 0 and 9:  2\n",
      "Enter an integer between 0 and 255:  4\n"
     ]
    },
    {
     "name": "stdout",
     "output_type": "stream",
     "text": [
      "Both numbers are correct: x = 2, y = 4\n"
     ]
    }
   ],
   "source": [
    "while True:\n",
    "    # Ask for the first number\n",
    "    x = int(input(\"Enter an integer between 0 and 9: \"))\n",
    "    if 0 <= x <= 9:\n",
    "        # Ask for the second number\n",
    "        y = int(input(\"Enter an integer between 0 and 255: \"))\n",
    "        if 0 <= y <= 255:\n",
    "            print(f\"Both numbers are correct: x = {x}, y = {y}\")\n",
    "            break\n",
    "    else:\n",
    "        print(\"Invalid input. Please try again.\")\n"
   ]
  },
  {
   "cell_type": "markdown",
   "id": "5d2cd0cc-da91-4a95-b004-f5ec5169d10e",
   "metadata": {},
   "source": [
    "# Question 14"
   ]
  },
  {
   "cell_type": "code",
   "execution_count": null,
   "id": "92847ad8-8829-4d55-9dad-8db8731cae90",
   "metadata": {},
   "outputs": [],
   "source": []
  }
 ],
 "metadata": {
  "kernelspec": {
   "display_name": "Python 3 (ipykernel)",
   "language": "python",
   "name": "python3"
  },
  "language_info": {
   "codemirror_mode": {
    "name": "ipython",
    "version": 3
   },
   "file_extension": ".py",
   "mimetype": "text/x-python",
   "name": "python",
   "nbconvert_exporter": "python",
   "pygments_lexer": "ipython3",
   "version": "3.12.4"
  }
 },
 "nbformat": 4,
 "nbformat_minor": 5
}
