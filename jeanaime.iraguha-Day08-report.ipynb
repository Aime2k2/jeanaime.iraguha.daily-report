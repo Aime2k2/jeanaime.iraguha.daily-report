{
 "cells": [
  {
   "cell_type": "markdown",
   "id": "42b170f7-86f1-4740-8c22-8548979ef41d",
   "metadata": {},
   "source": [
    "# PyPro: challenge 1\n",
    "This challenge is due on Sunday 29th September 2024 at 8pm.\n",
    "These exercises provide a wide range of challenges that test your understanding of Python's core concepts, such as control structures, data types, string manipulations, list comprehensions, and higher-order functions."
   ]
  },
  {
   "cell_type": "markdown",
   "id": "31df19f9-d588-4abe-8d43-843193908575",
   "metadata": {},
   "source": [
    "#### Basic Tasks\n",
    "1.Create a function find_max() that accepts two numeric inputs and returns the greater value. Avoid using the built-in max() function."
   ]
  },
  {
   "cell_type": "code",
   "execution_count": 4,
   "id": "d345ddc0-6fb3-40e7-a09d-6a098a4c5998",
   "metadata": {},
   "outputs": [
    {
     "data": {
      "text/plain": [
       "2"
      ]
     },
     "execution_count": 4,
     "metadata": {},
     "output_type": "execute_result"
    }
   ],
   "source": [
    "def find_max(a1,a2):\n",
    "    if a1>a2 :\n",
    "        return a1\n",
    "    else:\n",
    "        return a2\n",
    "        \n",
    "find_max(1,2) "
   ]
  },
  {
   "cell_type": "markdown",
   "id": "5c65e2f2-a4a4-44c1-842c-a8d3da21d184",
   "metadata": {},
   "source": [
    "2.Develop a function find_max_of_three() to find the maximum among three given numbers."
   ]
  },
  {
   "cell_type": "code",
   "execution_count": 6,
   "id": "766122d5-e909-4574-844e-c6278ac5928a",
   "metadata": {},
   "outputs": [
    {
     "data": {
      "text/plain": [
       "7"
      ]
     },
     "execution_count": 6,
     "metadata": {},
     "output_type": "execute_result"
    }
   ],
   "source": [
    "def ind_max_of_three(a,b,c):\n",
    "    if a>b and a>c :\n",
    "        return a\n",
    "    elif b>a and b>c:\n",
    "        return b\n",
    "    else:\n",
    "        return c\n",
    "        \n",
    "ind_max_of_three(1,7,4)"
   ]
  },
  {
   "cell_type": "markdown",
   "id": "ebf1a0e5-a83e-47d2-8f5a-246acadfc829",
   "metadata": {},
   "source": [
    "3.Write a function to manually calculate the length of a given list or string without using len()."
   ]
  },
  {
   "cell_type": "code",
   "execution_count": 214,
   "id": "ef226036-c4bc-4379-b92c-8ffea09c0a28",
   "metadata": {},
   "outputs": [],
   "source": [
    "def manual_list_length(lst):\n",
    "    count = 0\n",
    "    for x in lst:\n",
    "        count += 1\n",
    "    return count\n",
    "\n",
    "my_list = [1, 2, 3, 4, 5]\n",
    "print(\"Length of the list:\", manual_list_length(lst))\n",
    "\n",
    "    "
   ]
  },
  {
   "cell_type": "markdown",
   "id": "d4a890f5-04c2-4ede-8007-e98b5a3685cc",
   "metadata": {},
   "source": [
    "4.Implement a function that checks if a given character is a vowel (a, e, i, o, u)."
   ]
  },
  {
   "cell_type": "code",
   "execution_count": 85,
   "id": "4ee97d0c-3404-4f8d-9c52-759312f41442",
   "metadata": {},
   "outputs": [
    {
     "name": "stdin",
     "output_type": "stream",
     "text": [
      "Enter text:  wedjwbfj\n"
     ]
    },
    {
     "name": "stdout",
     "output_type": "stream",
     "text": [
      "The text contains at least one vowel.\n"
     ]
    }
   ],
   "source": [
    "def contains_vowel(text):\n",
    "    vowels = \"aeiouAEIOU\"\n",
    "    for char in text:\n",
    "        if char in vowels:\n",
    "            return True\n",
    "    return False\n",
    "\n",
    "# Example usage:\n",
    "text = input(\"Enter text: \")\n",
    "if contains_vowel(text):\n",
    "    print(\"The text contains at least one vowel.\")\n",
    "else:\n",
    "    print(\"The text does not contain any vowels.\")\n"
   ]
  },
  {
   "cell_type": "code",
   "execution_count": 83,
   "id": "423a3bf6-1fb9-4fad-b8c9-4be356800ceb",
   "metadata": {},
   "outputs": [
    {
     "name": "stdout",
     "output_type": "stream",
     "text": [
      "doesn't contains vawels\n"
     ]
    }
   ],
   "source": [
    "text_contain_vawel(text)"
   ]
  },
  {
   "cell_type": "code",
   "execution_count": 69,
   "id": "c38d4e2e-0167-4245-8d64-d095d0ff7eea",
   "metadata": {},
   "outputs": [
    {
     "name": "stdin",
     "output_type": "stream",
     "text": [
      "Enter a character:  w\n"
     ]
    },
    {
     "name": "stdout",
     "output_type": "stream",
     "text": [
      "w is not a vowel.\n"
     ]
    }
   ],
   "source": [
    "\n",
    "char = input(\"Enter a character: \")\n",
    "def is_vowel(char):\n",
    "    vowels = \"aeiouAEIOU\"\n",
    "    return char in vowels\n",
    "\n",
    "if is_vowel(char):\n",
    "    print(f\"{char} is a vowel.\")\n",
    "else:\n",
    "    print(f\"{char} is not a vowel.\")\n"
   ]
  },
  {
   "cell_type": "code",
   "execution_count": 65,
   "id": "8a06fb8a-f70c-48ed-921f-5938fe214788",
   "metadata": {},
   "outputs": [
    {
     "name": "stdout",
     "output_type": "stream",
     "text": [
      "doesn't contains vawels\n"
     ]
    }
   ],
   "source": [
    "  text_contain_vawel(text)                \n"
   ]
  },
  {
   "cell_type": "markdown",
   "id": "c3f52b7b-ab64-4c21-bb67-adabc9d99934",
   "metadata": {},
   "source": [
    "5.Write a function encode() that converts a string into “rövarspråket” (robber’s language) by doubling consonants and placing “o” in between, e.g., “hello” -> “hohelollolo”."
   ]
  },
  {
   "cell_type": "code",
   "execution_count": 3,
   "id": "ac3de5fc-b62b-4b21-b333-c554c61a001b",
   "metadata": {},
   "outputs": [
    {
     "name": "stdout",
     "output_type": "stream",
     "text": [
      "Aimome\n"
     ]
    }
   ],
   "source": [
    "\n",
    "def encode(text):\n",
    "    consonants = \"bcdfghjklmnpqrstvwxyzBCDFGHJKLMNPQRSTVWXYZ\"\n",
    "    result = \"\"\n",
    "    \n",
    "    for char in text:\n",
    "        if char in consonants:\n",
    "            result += char + \"o\" + char\n",
    "        else:\n",
    "            result += char\n",
    "    \n",
    "    return result\n",
    "\n",
    "# Example usage\n",
    "print(encode(\"Aime\"))  # Output: hohelollolo\n"
   ]
  },
  {
   "cell_type": "code",
   "execution_count": 5,
   "id": "0e10016b-3e0f-4a73-a333-d7f76d1a5de7",
   "metadata": {},
   "outputs": [
    {
     "data": {
      "text/plain": [
       "'Aimome iroragoguhoha'"
      ]
     },
     "execution_count": 5,
     "metadata": {},
     "output_type": "execute_result"
    }
   ],
   "source": [
    "encode(\"Aime iraguha\")"
   ]
  },
  {
   "cell_type": "markdown",
   "id": "c68dcf09-1526-4261-a19a-e46f53b8fcff",
   "metadata": {},
   "source": [
    "6.Create sum_elements() and product_elements() functions to sum and multiply all elements in a list, respectively."
   ]
  },
  {
   "cell_type": "code",
   "execution_count": 141,
   "id": "2a5d0f0f-8170-45eb-9f01-6a2dfc8fde66",
   "metadata": {
    "scrolled": true
   },
   "outputs": [
    {
     "name": "stdout",
     "output_type": "stream",
     "text": [
      "Sum of elements: 10\n",
      "Product of elements: 24\n"
     ]
    }
   ],
   "source": [
    "def sum_elements(lst):\n",
    "    sum = 0\n",
    "    index = 0\n",
    "    while index < len(lst):\n",
    "        sum += lst[index]\n",
    "        index += 1\n",
    "    return sum\n",
    "\n",
    "def product_elements(lst):\n",
    "    product = 1\n",
    "    index = 0\n",
    "    while index < len(lst):\n",
    "        product *= lst[index]\n",
    "        index += 1\n",
    "    return product\n",
    "\n",
    "# Example usage:\n",
    "numbers = [1,2,3,4]\n",
    "\n",
    "print(\"Sum of elements:\", sum_elements(numbers))  # Output: 15\n",
    "print(\"Product of elements:\", product_elements(numbers))  # Output: 120\n",
    "\n"
   ]
  },
  {
   "cell_type": "markdown",
   "id": "b339edeb-0990-4885-81ca-2cb0dea222d5",
   "metadata": {},
   "source": [
    "7.Define a function reverse_string() to reverse the characters in a given string."
   ]
  },
  {
   "cell_type": "code",
   "execution_count": 163,
   "id": "4c9ad3c7-8a65-42f5-b236-8fbb5dacf4f5",
   "metadata": {},
   "outputs": [
    {
     "name": "stdin",
     "output_type": "stream",
     "text": [
      "Any text: iraguha\n"
     ]
    },
    {
     "data": {
      "text/plain": [
       "'ahugari'"
      ]
     },
     "execution_count": 163,
     "metadata": {},
     "output_type": "execute_result"
    }
   ],
   "source": [
    "def reverse_string(str):\n",
    "    return str[::-1]\n",
    "str=input(\"Any text:\")\n",
    "reverse_string(str)   "
   ]
  },
  {
   "cell_type": "markdown",
   "id": "88fc7a67-7569-4270-b9a8-a422e880cff4",
   "metadata": {},
   "source": [
    "8.Implement check_palindrome() to verify if a string reads the same forwards and backwards, i.e. is a palindrome."
   ]
  },
  {
   "cell_type": "code",
   "execution_count": 173,
   "id": "f4c3f94a-26f9-4b7b-b051-4621a6c8468c",
   "metadata": {},
   "outputs": [
    {
     "name": "stdin",
     "output_type": "stream",
     "text": [
      "text wuwuw\n"
     ]
    },
    {
     "name": "stdout",
     "output_type": "stream",
     "text": [
      "string reads the same forwards and backwards\n"
     ]
    }
   ],
   "source": [
    "def check_palindrome(name):\n",
    "    if name == name[::-1]:\n",
    "        return True\n",
    "    return False\n",
    "name=input(\"text\") \n",
    "if check_palindrome(name):\n",
    "    print(\"string reads the same forwards and backwards\")\n",
    "else:\n",
    "    print(\"string doesn't reads the same forwards and backwards\")\n",
    "\n"
   ]
  },
  {
   "cell_type": "markdown",
   "id": "34777eb5-601f-49ee-b168-24a6a8e4a519",
   "metadata": {},
   "source": [
    "9.Develop a function check_membership() to determine if a value exists within a list."
   ]
  },
  {
   "cell_type": "code",
   "execution_count": null,
   "id": "1b06cd9f-ba6d-420d-9a7e-a648c586252d",
   "metadata": {},
   "outputs": [],
   "source": [
    "def check_membership(lst, value):\n",
    "    index = 0\n",
    "    while index < len(lst):\n",
    "        if lst[index] == value:\n",
    "            return True\n",
    "        index += 1\n",
    "    return False\n",
    "\n",
    "# Example usage:\n",
    "numbers = [1, 2, 3, 4, 5]\n",
    "value_to_check = 3\n",
    "if check_membership(numbers, value_to_check):\n",
    "    print(f\"{value_to_check} is in the list.\")\n",
    "else:\n",
    "    print(f\"{value_to_check} is not in the list.\")\n",
    "\n",
    "    \n",
    "    \n",
    "    "
   ]
  },
  {
   "cell_type": "markdown",
   "id": "b9a0d54d-787f-4432-be90-7e0005c2bd12",
   "metadata": {},
   "source": [
    "10.Write check_overlap() to identify if two lists share any elements."
   ]
  },
  {
   "cell_type": "code",
   "execution_count": 220,
   "id": "2fc49e73-a490-4454-9c38-01488ffdf5ca",
   "metadata": {},
   "outputs": [
    {
     "name": "stdin",
     "output_type": "stream",
     "text": [
      "Enter list 1 [1,0]\n",
      "Enter a list 2 [0,5]\n"
     ]
    },
    {
     "name": "stdout",
     "output_type": "stream",
     "text": [
      "two list Share common elements\n"
     ]
    }
   ],
   "source": [
    "def check_overlap(li1,li2):\n",
    "    track=0\n",
    "    for j in li1:\n",
    "        if j in li2:\n",
    "            track=track+1\n",
    "    if(track>0):\n",
    "        print(\"two list Share common elements\")\n",
    "    else:\n",
    "        print(\"two list do not share common elements\")  \n",
    "      \n",
    "li1 = input(\"Enter list 1\")\n",
    "li2 = input(\"Enter a list 2\")             \n",
    "check_overlap(li1, li2)        \n"
   ]
  },
  {
   "cell_type": "markdown",
   "id": "0d0f1dd0-caf4-4c59-b974-95cf2bd9cd82",
   "metadata": {},
   "source": [
    "11.Implement repeat_char() that generates a string with a specified character repeated n times."
   ]
  },
  {
   "cell_type": "code",
   "execution_count": null,
   "id": "26005f6e-b338-4371-bc7b-d62c444fe474",
   "metadata": {},
   "outputs": [],
   "source": [
    "def repeat_char(char, n):\n",
    "    # Return the character repeated n times\n",
    "    return char * n\n",
    "input="
   ]
  },
  {
   "cell_type": "markdown",
   "id": "b8ba5077-7360-4da1-a476-c61e0016a6eb",
   "metadata": {},
   "source": [
    "12.Create a function print_histogram() that takes a list of integers and prints a corresponding histogram."
   ]
  },
  {
   "cell_type": "code",
   "execution_count": null,
   "id": "447c86f9-b05f-490d-a1a4-193400a62f13",
   "metadata": {},
   "outputs": [],
   "source": []
  },
  {
   "cell_type": "markdown",
   "id": "9185c04e-5905-4d15-8d4a-eed36cb69412",
   "metadata": {},
   "source": [
    "Write find_max_in_list() to identify the largest number in a list of arbitrary length.\n",
    "\n",
    "Create a program that maps each word in a list to its length.\n",
    "\n",
    "Implement longest_word() to find the longest word in a list.\n",
    "\n",
    "Develop filter_words() to return words longer than a specified length from a list.\n",
    "\n",
    "Enhance the palindrome recognizer to handle phrases, ignoring spaces, punctuation, and case.\n",
    "\n",
    "Implement a function that checks if a given sentence is a pangram.\n",
    "\n",
    "Write a function that generates verses for the “99 Bottles of Beer” song.\n",
    "\n",
    "Create a translation function using a small dictionary to translate English words into French/.\n",
    "\n",
    "Develop char_frequency() to build a dictionary of character frequencies in a string.\n",
    "\n",
    "Implement a Caesar cipher encoder/decoder using a shift of 13 (ROT-13).\n",
    "\n",
    "Create fix_spaces() to correct multiple spaces and missing spaces after periods in a text.\n",
    "\n",
    "Write convert_to_third_person() to transform verbs into their third person singular form.\n",
    "\n",
    "Implement make_ing_form() to convert verbs into their present participle form using heuristic rules.\n",
    "\n",
    "Higher-Order Functions and List Comprehensions\n",
    "Use reduce() to write max_in_list() that returns the largest number in a list.\n",
    "\n",
    "Write a program that maps words to their lengths using a for-loop, map(), and list comprehensions.\n",
    "\n",
    "Implement find_longest_word() using only higher-order functions.\n",
    "\n",
    "Use filter() to write filter_long_words() that filters words longer than n.\n",
    "\n",
    "Create translate_with_map() to translate English words to French using map().\n",
    "\n",
    "Re-implement the higher-order functions map(), filter(), and reduce() from scratch.\n",
    "\n",
    "Simple Tasks with I/O\n",
    "Write a palindrome recognizer that reads lines from a file and prints only the palindromes.\n",
    "\n",
    "Implement a semordnilap recognizer that finds word pairs from a file where each word is the reverse of the other.\n",
    "\n",
    "Create char_frequency_table() to display a sorted character frequency table from a file.\n",
    "\n",
    "Write a function speak_ICAO() that translates text into the ICAO phonetic alphabet.\n",
    "\n",
    "Implement find_hapaxes() to identify words that occur only once in a text file.\n",
    "\n",
    "Write a program that numbers each line in a text file.\n",
    "\n",
    "Calculate the average word length in a text file.\n",
    "\n",
    "Implement a number-guessing game where the user guesses a number between 1 and 20.\n",
    "\n",
    "Write a program that presents an anagram of a randomly chosen word and allows the user to guess the original.\n",
    "\n",
    "Create a Lingo game where players guess a hidden word, receiving clues about correct and misplaced characters.\n",
    "\n",
    "Advanced Tasks\n",
    "Develop a sentence splitter that separates a text into sentences based on various heuristics.\n",
    "\n",
    "Write a program to find the largest group of anagrams in a given word list.\n",
    "\n",
    "Generate a string of balanced brackets and verify if it is balanced.\n",
    "\n",
    "Create a word chain game where each word starts with the last letter of the previous one, using a list of Pokemon names."
   ]
  }
 ],
 "metadata": {
  "kernelspec": {
   "display_name": "Python 3 (ipykernel)",
   "language": "python",
   "name": "python3"
  },
  "language_info": {
   "codemirror_mode": {
    "name": "ipython",
    "version": 3
   },
   "file_extension": ".py",
   "mimetype": "text/x-python",
   "name": "python",
   "nbconvert_exporter": "python",
   "pygments_lexer": "ipython3",
   "version": "3.12.4"
  }
 },
 "nbformat": 4,
 "nbformat_minor": 5
}
