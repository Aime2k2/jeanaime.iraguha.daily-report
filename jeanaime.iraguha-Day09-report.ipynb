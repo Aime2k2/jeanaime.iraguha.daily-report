{
 "cells": [
  {
   "cell_type": "markdown",
   "metadata": {
    "colab_type": "text",
    "id": "view-in-github"
   },
   "source": [
    "<a href=\"https://colab.research.google.com/github/ai-technipreneurs/python_course_colab_notebooks/blob/main/05_Lecture05.ipynb\" target=\"_parent\"><img src=\"https://colab.research.google.com/assets/colab-badge.svg\" alt=\"Open In Colab\"/></a>"
   ]
  },
  {
   "cell_type": "markdown",
   "metadata": {
    "id": "hDFhGBtydVB8"
   },
   "source": [
    "<center>\n",
    "    <a href=\"https://aims-senegal.org/\" ><img src=\"images/logoaimssn.jpeg\" style=\"float:left; max-width: 650px; display: inline\" alt=\"AIMS-SN\"/> </a>\n",
    "    </center>\n",
    "\n",
    "\n",
    "\n",
    "<center>\n",
    "    \n",
    "<a href=\"https://acas-yde.org/\" ><img src=\"images/logo-ACAS.jpg\" style=\"float:right; max-width: 250px; display: inline\" alt=\"ACAS\"/></a>\n",
    "    \n",
    "</center>\n"
   ]
  },
  {
   "cell_type": "markdown",
   "metadata": {
    "id": "JgPFAnzidVB-"
   },
   "source": [
    "****\n",
    "\n",
    "# <center> <b> <span style=\"color:orange;\"> Python Proficiency for Scientific Computing and Data Science (PyPro-SCiDaS)  </span> </b></center>\n",
    "\n",
    "### <center> <b> <span style=\"color:green;\">An Initiation to Programming using Python (Init2Py) </span> </b></center>\n",
    "    \n"
   ]
  },
  {
   "cell_type": "markdown",
   "metadata": {
    "id": "tLJuNn_2dVB_"
   },
   "source": [
    "****\n",
    "\n",
    "# <center> <b> <span style=\"color:blue;\"> Lecture 5: Functions, Modules, and Packages </span> </b></center>\n",
    "\n",
    "<!--NAVIGATION-->\n",
    "<  [4.Flow control](04.Lecture04.ipynb)| [ToC](Index.ipynb) | [6. To come](06.Lecture06.ipynb)>\n",
    "\n",
    "****"
   ]
  },
  {
   "cell_type": "markdown",
   "metadata": {
    "id": "Wtw2SqnYdVB_"
   },
   "source": [
    "### <left> <b> <span style=\"color:brown;\"> Objective: </span> </b></left>\n",
    "\n",
    "\"This lecture aims to introduce the concepts of `functions`, `modules`, and `packages` in Python. We will explore the role and creation of `functions` for organizing and reusing code, delve into `modules` for structuring code into manageable files, and examine `packages` for grouping related modules. By understanding these components, you'll gain the skills to build modular and maintainable Python programs.\"\n",
    "****"
   ]
  },
  {
   "cell_type": "markdown",
   "metadata": {
    "id": "tMFgj2t6dVCA"
   },
   "source": [
    "**Note**: It is important to note that the `input()` function always returns a string. If you need the user to enter a numeric value, you will have to convert the entered value (which will be of type string) into a numeric type using built-in functions like `int()` (for integers) or `float()` (for floating-point numbers)."
   ]
  },
  {
   "cell_type": "markdown",
   "metadata": {
    "id": "nPcBEcjZdVCC"
   },
   "source": [
    "To execute the function `multiplication_table_8()` that we just defined, simply reference it by its name as follows (anywhere in the main program):\n",
    "\n",
    "```python\n",
    "multiplication_table_8()\n",
    "```"
   ]
  },
  {
   "cell_type": "markdown",
   "metadata": {
    "id": "ks-sej-qdVCI"
   },
   "source": [
    "Notons toutefois que même si la fonction lambda n’est pas définie avec un nom, pour\n",
    "récupérer la valeur renvoyée, lors de l’appel de la fonction, il faut l’assigner à une nouvelle\n",
    "variable. L’exemple ci-dessous illustre l’appel de la fonction lambda précédente en prenant x=2\n",
    "et y=3.\n",
    "```python\n",
    "   x = lambda x, y : x * y\n",
    "   x(2,3)\n",
    "```"
   ]
  },
  {
   "cell_type": "code",
   "execution_count": null,
   "metadata": {
    "id": "gmJfO588dVCI"
   },
   "outputs": [],
   "source": [
    "x = lambda x, y : x * y\n",
    "x(2,3)"
   ]
  },
  {
   "cell_type": "markdown",
   "metadata": {
    "id": "dUIzH0HrdVCJ"
   },
   "source": [
    "<left> <b> <span style=\"color:red;\">\n",
    "Note: When we define variables inside a function, these variables are only accessible within that function itself. These variables are referred to as `« local »` to the function. However, when variables are defined outside of the function in the main program body, they are called `« global »` variables. The content of a global variable is visible and accessible from within a function, but the function cannot modify the value of the variable.</span> </b></left>\n",
    "\n",
    "```python\n",
    "def myFunction():\n",
    "    p = 20\n",
    "    print(p, q)\n",
    "\n",
    "p = 15\n",
    "q = 38\n",
    "\n",
    "print(p, q)  # Outputs: 15 38\n",
    "myFunction()  # Calls the function, Outputs: 20 38\n",
    "print(p, q)  # Outputs: 15 38\n",
    "```"
   ]
  },
  {
   "cell_type": "markdown",
   "metadata": {
    "id": "9X9Sj7O4dVCK"
   },
   "source": [
    "### 0.6. Documenting a Function\n",
    "\n",
    "After creating a function (especially a relatively long and complex one), it is highly recommended to document it to allow other users to understand it quickly. Function documentation is typically a string that provides an overview of the function and useful details. This description is generally specified right after the function's name declaration and before the definition of other instruction blocks. The example below illustrates how to document a function and how to access this documentation when needed."
   ]
  },
  {
   "cell_type": "code",
   "execution_count": 46,
   "metadata": {
    "id": "WLVOXMt-dVCK"
   },
   "outputs": [],
   "source": [
    "def volumeSphere():\n",
    "    \"\"\" This program calculates the volume of a sphere.\n",
    "    The function is defined with a single required argument r\n",
    "    which represents the radius of the sphere.\n",
    "    It can take any positive value.\"\"\"\n",
    "    r = float(input(\"Enter the radius of the sphere: \"))\n",
    "    PI = 3.14\n",
    "    return (4 * PI * r**3) / 3\n"
   ]
  },
  {
   "cell_type": "markdown",
   "metadata": {
    "id": "-2d46uD9dVCL"
   },
   "source": [
    "In the definition of the `volumeSphere` function, the string does not play any functional role in the script; it is treated by Python as a simple comment but is stored as internal documentation for the function. This documentation is stored in an attribute called `__doc__`. To display this attribute, you use:\n",
    "\n",
    "```python\n",
    "print(volumeSphere.__doc__)\n",
    "```"
   ]
  },
  {
   "cell_type": "code",
   "execution_count": 48,
   "metadata": {
    "id": "dbiYD5didVCL"
   },
   "outputs": [
    {
     "name": "stdout",
     "output_type": "stream",
     "text": [
      " This program calculates the volume of a sphere.\n",
      "    The function is defined with a single required argument r\n",
      "    which represents the radius of the sphere.\n",
      "    It can take any positive value.\n"
     ]
    }
   ],
   "source": [
    "print(volumeSphere.__doc__)"
   ]
  },
  {
   "cell_type": "markdown",
   "metadata": {
    "id": "3c77kI2rdVCL"
   },
   "source": [
    "## 1. Modules\n",
    "\n",
    "A Python program is generally composed of several source files, called *modules*. Their names have the `.py` suffix. If correctly coded, modules should be independent of each other and reusable on demand in other programs.\n",
    "\n",
    "**Modules are files that group sets of functions.** A **module** is an independent file that allows a program to be split into several scripts. This mechanism allows for the efficient creation of function or class libraries.\n",
    "\n",
    "**Advantages of modules:**\n",
    "- Code reuse;\n",
    "- Documentation and tests can be integrated into the module;\n",
    "- Implementation of shared services or data;\n",
    "- Partitioning of the system's namespace.\n",
    "\n",
    "Just as dictionaries are collections of objects (lists, tuples, sets, etc.), modules are collections of functions that perform related tasks. For example, the `math` module contains a number of mathematical functions such as sine, cosine, tangent, square root, etc. Many modules are already pre-installed in Python's standard library. However, to perform certain specific tasks, you often need to install additional modules (e.g., `numpy`, `scipy`, `matplotlib`, `pandas`, etc.)."
   ]
  },
  {
   "cell_type": "markdown",
   "metadata": {
    "id": "bVCBIglDdVCL"
   },
   "source": [
    "### 1.0. Importing a Module\n",
    "\n",
    "There are two possible syntaxes:\n",
    "\n",
    "- The `import nom_module` command imports all objects from the module:\n",
    "  ```python\n",
    "     import tkinter\n",
    "  ```\n",
    "- The `from <nom_module> import obj1, obj2` command imports only the specified objects `obj1, obj2...` from the module:\n",
    "  ```python\n",
    "     from math import pi, sin, log\n",
    "  ```\n",
    "\n",
    "It is recommended to import in the following order:\n",
    "- Standard library modules;\n",
    "- Third-party library modules;\n",
    "- Personal modules."
   ]
  },
  {
   "cell_type": "markdown",
   "metadata": {
    "id": "VUfuqeUAdVCL"
   },
   "source": [
    "### 1.1. The Standard Library\n",
    "\n",
    "It is often said that Python comes \"batteries included\" due to its standard library, which is rich with over 200 packages and modules designed to address a wide range of common problems. See [The Python Standard Library](https://docs.python.org/3/library/index.html)."
   ]
  },
  {
   "cell_type": "code",
   "execution_count": null,
   "metadata": {
    "id": "mcaMJxzHdVCL"
   },
   "outputs": [],
   "source": [
    "import math\n",
    "dir(math)  # To see the list of functions and attributes in the module."
   ]
  },
  {
   "cell_type": "code",
   "execution_count": null,
   "metadata": {
    "id": "HlPLSL9KdVCL"
   },
   "outputs": [],
   "source": [
    "help(math.gamma)  # Displays the documentation for the gamma function in the math module."
   ]
  },
  {
   "cell_type": "code",
   "execution_count": null,
   "metadata": {
    "id": "McfB1U6IdVCL"
   },
   "outputs": [],
   "source": [
    "from math import sin  # Imports the sine function\n",
    "\n",
    "from math import cos, sin, tan, pi  # Imports the cosine, sine, tangent functions, and the value of pi (3.14)\n"
   ]
  },
  {
   "cell_type": "code",
   "execution_count": null,
   "metadata": {
    "id": "0DZHD7t-dVCM"
   },
   "outputs": [],
   "source": [
    "from math import *  # Imports all functions and constants from the math module (equivalent to import math)\n"
   ]
  },
  {
   "cell_type": "markdown",
   "metadata": {
    "id": "JwKUxklUdVCM"
   },
   "source": [
    "<left> <b> <span style=\"color:brown;\">Some uses of the math function: </span> </b></left>\n",
    "\n",
    "```python\n",
    "from math import *\n",
    "\n",
    "v = 16  # defines a variable v\n",
    "x = sqrt(v)  # Returns the square root of v\n",
    "y = exp(v)   # Returns the exponential of v\n",
    "z = log(v)   # Returns the natural logarithm of v\n",
    "```"
   ]
  },
  {
   "cell_type": "code",
   "execution_count": null,
   "metadata": {
    "id": "W99VMCU4dVCM"
   },
   "outputs": [],
   "source": [
    "from math import *\n",
    "v = 16  # defines a variable v\n",
    "x = sqrt(v)  # Returns the square root of v\n",
    "y = exp(v)   # Returns the exponential of v\n",
    "z = log(v)   # Returns the natural logarithm of v\n",
    "print(v, x, y, z)"
   ]
  },
  {
   "cell_type": "markdown",
   "metadata": {
    "id": "EXG0SudEdVCM"
   },
   "source": [
    "<left> <b> <span style=\"color:brown;\">Some examples of using the random module: </span> </b></left>\n",
    "\n",
    "```python\n",
    "from random import random, randint, seed, uniform, randrange, sample, shuffle  # Imports some useful functions from random\n",
    "```"
   ]
  },
  {
   "cell_type": "code",
   "execution_count": 1,
   "metadata": {
    "id": "IJp8BIc6dVCM"
   },
   "outputs": [
    {
     "name": "stdout",
     "output_type": "stream",
     "text": [
      "0.6794483255946816\n"
     ]
    }
   ],
   "source": [
    "import random\n",
    "\n",
    "x = random.random()  # Returns a random number between 0.0 and 1.0\n",
    "print(x)\n",
    "\n"
   ]
  },
  {
   "cell_type": "code",
   "execution_count": null,
   "metadata": {
    "id": "yn0H7bVydVCM"
   },
   "outputs": [],
   "source": [
    "import random\n",
    "\n",
    "x = random.randint(5, 17)  # Returns a random integer between 5 and 17 (inclusive)\n",
    "print(x)\n"
   ]
  },
  {
   "cell_type": "code",
   "execution_count": null,
   "metadata": {
    "id": "0GC_mX2JdVCN"
   },
   "outputs": [],
   "source": [
    "import random\n",
    "\n",
    "x = random.uniform(5, 17)  # Returns a random floating-point number between 5 and 17\n",
    "print(x)\n"
   ]
  },
  {
   "cell_type": "markdown",
   "metadata": {
    "id": "6e2YPAckdVCN"
   },
   "source": [
    "## Feel free to explore the `turtle`, `time`, `decimal`, `fractions`, `cmath` modules."
   ]
  },
  {
   "cell_type": "markdown",
   "metadata": {
    "id": "jMXyG4HldVCN"
   },
   "source": [
    "### 1.2. Third-Party Libraries\n",
    "\n",
    "In addition to the modules included in the standard Python distribution, you can find libraries in various fields:\n",
    "- Scientific\n",
    "- Databases\n",
    "- Functional testing and quality control\n",
    "- 3D\n",
    "- ...\n",
    "\n",
    "The [PYPI](https://pypi.org/) (The Python Package Index) lists thousands of modules and packages!"
   ]
  },
  {
   "cell_type": "markdown",
   "metadata": {
    "id": "1h1zG48ydVCN"
   },
   "source": [
    "### 1.3. Define and use your own module\n",
    "\n",
    "You can create your own module by gathering several functions into a single script and saving it with the `.py` extension in the current directory. The name should be simple and not create ambiguity with other Python objects. For example, you might choose `myprogram.py`.\n",
    "\n",
    "Once the script is saved in the current directory, you can import the module like a standard module, and all its functions (and variables) become accessible. The module is imported using the command:\n",
    "\n",
    "```python\n",
    "import myprogram\n",
    "```\n",
    "\n",
    "You can then use the functions from the module as you would with any standard module. For example:\n",
    "\n",
    "```python\n",
    "# myprogram.py\n",
    "def greet(name):\n",
    "    \"\"\"Returns a greeting message.\"\"\"\n",
    "    return f\"Hello, {name}!\"\n",
    "\n",
    "def add(a, b):\n",
    "    \"\"\"Returns the sum of two numbers.\"\"\"\n",
    "    return a + b\n",
    "```\n",
    "\n",
    "```python\n",
    "# main.py\n",
    "import myprogram\n",
    "\n",
    "print(myprogram.greet(\"Alice\"))  # Output: Hello, Alice!\n",
    "print(myprogram.add(5, 7))       # Output: 12\n",
    "```"
   ]
  },
  {
   "cell_type": "code",
   "execution_count": 1,
   "metadata": {},
   "outputs": [
    {
     "name": "stdout",
     "output_type": "stream",
     "text": [
      "Hello, Alice!\n",
      "12\n"
     ]
    }
   ],
   "source": [
    "import myprogram \n",
    "print(myprogram.greet(\"Alice\"))  # Output: Hello, Alice!\n",
    "print(myprogram.add(5, 7))  "
   ]
  },
  {
   "cell_type": "markdown",
   "metadata": {
    "id": "E_zY07vmdVCN"
   },
   "source": [
    "Open your preferred text editor and write the following code, which you should save as `cube_m.py`:\n",
    "\n",
    "```python\n",
    "# A module named cube_m.py\n",
    "def cube(y):\n",
    "    \"\"\"Calculates the cube of the parameter <y>.\"\"\"\n",
    "    return y**3\n",
    "\n",
    "\n",
    "# Self-test ----------------------------------------------------\n",
    "if __name__ == \"__main__\": # False when imported ==> ignored\n",
    "    help(cube)\n",
    "    # displays the docstring of the function\n",
    "    print(\"cube of 9:\", cube(9)) # cube of 9: 729\n",
    "```\n",
    "\n",
    "```python\n",
    "# Using this module. We import the function cube() from the file cube_m.py:\n",
    "from cube_m import cube\n",
    "\n",
    "for i in range(1, 4):\n",
    "    print(\"cube of\", i, \"=\", cube(i), end=\" \")\n",
    "# cube of 1 = 1 cube of 2 = 8 cube of 3 = 27\n",
    "```"
   ]
  },
  {
   "cell_type": "markdown",
   "metadata": {
    "id": "5WXhYG4LdVCN"
   },
   "source": [
    "## 2. Package\n",
    "\n",
    "A second level of organization allows for structuring the code: Python files can be organized in a directory hierarchy called a `package`.\n",
    "\n",
    "More simply, a *package* is a module containing other modules. The modules in a package can be *sub-packages*, creating a tree-like structure. In summary, a package is simply a directory that contains modules and an `__init__.py` file describing the package's structure. Example:\n"
   ]
  },
  {
   "cell_type": "markdown",
   "metadata": {
    "id": "fz5W4rVYdVCN"
   },
   "source": [
    "### In a terminal, do the following:\n",
    "\n",
    "- `mkdir monpackage`;\n",
    "- `cd monpackage`;\n",
    "- `touch __init__.py`;\n",
    "- `touch mesfonctions.py`\n",
    "  - This file contains two Python functions:\n",
    "  \n",
    "     ```python\n",
    "        def additionner(a, b):\n",
    "            return a + b\n",
    "\n",
    "        def soustraire(a, b):\n",
    "            return a - b\n",
    "\n",
    "     ```\n",
    "- `touch mesattributs.py`\n",
    "    - This file contains two constants:\n",
    "   ```python\n",
    "      x = 100\n",
    "      y = 95\n",
    "    ```\n",
    "    \n",
    "    \n",
    "### Then  do this:\n",
    "\n",
    "This sequence of code demonstrates how to use the functions and constants defined in the `monpackage` package:\n",
    "\n",
    "1. **Importing and Using Functions:**\n",
    "   ```python\n",
    "   from monpackage import mesfonctions\n",
    "   mesfonctions.additionner(23, 89) == 112  # Returns True\n",
    "   ```\n",
    "   - Here, the `additionner` function is imported from the `mesfonctions` module within the `monpackage` package.\n",
    "   - `mesfonctions.additionner(23, 89)` calls the `additionner` function with arguments `23` and `89`.\n",
    "   - The function returns `112`, which matches the expected result, so the expression `mesfonctions.additionner(23, 89) == 112` evaluates to `True`.\n",
    "\n",
    "2. **Importing and Using Constants:**\n",
    "   ```python\n",
    "   from monpackage import mesattributs\n",
    "   mesattributs.x == 100  # Returns True\n",
    "   ```\n",
    "   - Here, the constant `x` is imported from the `mesattributs` module within the `monpackage` package.\n",
    "   - `mesattributs.x` accesses the constant `x` which is defined as `100`.\n",
    "   - The expression `mesattributs.x == 100` evaluates to `True` since the value of `x` is indeed `100`.    \n"
   ]
  },
  {
   "cell_type": "code",
   "execution_count": 3,
   "metadata": {
    "id": "3twWykt-dVCO"
   },
   "outputs": [],
   "source": [
    "from monpackage import mesfonctions"
   ]
  },
  {
   "cell_type": "code",
   "execution_count": 5,
   "metadata": {
    "id": "wcsL2W0EdVCO"
   },
   "outputs": [
    {
     "data": {
      "text/plain": [
       "True"
      ]
     },
     "execution_count": 5,
     "metadata": {},
     "output_type": "execute_result"
    }
   ],
   "source": [
    "mesfonctions.additionner(23,89) == 112  # Returns True"
   ]
  },
  {
   "cell_type": "code",
   "execution_count": 7,
   "metadata": {
    "id": "0ngeu_m7dVCO"
   },
   "outputs": [],
   "source": [
    "from monpackage import mesattributs"
   ]
  },
  {
   "cell_type": "code",
   "execution_count": 9,
   "metadata": {
    "id": "jR9AevdQdVCO"
   },
   "outputs": [
    {
     "data": {
      "text/plain": [
       "True"
      ]
     },
     "execution_count": 9,
     "metadata": {},
     "output_type": "execute_result"
    }
   ],
   "source": [
    "mesattributs.x == 100 # Returns True"
   ]
  },
  {
   "cell_type": "markdown",
   "metadata": {
    "id": "BPXzFMaNdVCO"
   },
   "source": [
    "<!--NAVIGATION-->\n",
    "<  [4.Flow control](04_Lecture04.ipynb)| [ToC](Index.ipynb) | [6. To come](06.Lecture06.ipynb)>\n"
   ]
  },
  {
   "cell_type": "markdown",
   "metadata": {
    "id": "H_0r41EJdff_"
   },
   "source": [
    "# Practical_5: Functions, Modules and Packages\n",
    "Exercise 1:\n",
    "Write a Python function add_numbers(a, b) that takes two numbers and returns their sum."
   ]
  },
  {
   "cell_type": "code",
   "execution_count": 253,
   "metadata": {},
   "outputs": [
    {
     "data": {
      "text/plain": [
       "5"
      ]
     },
     "execution_count": 253,
     "metadata": {},
     "output_type": "execute_result"
    }
   ],
   "source": [
    "def add_numbers(a, b):\n",
    "    return a+b\n",
    "    # example\n",
    "add_numbers(1, 4)"
   ]
  },
  {
   "cell_type": "markdown",
   "metadata": {
    "id": "H_0r41EJdff_"
   },
   "source": [
    "\n",
    "Exercise 2:\n",
    "Create a function greet(name) that takes a name and prints \"Hello, !\"."
   ]
  },
  {
   "cell_type": "code",
   "execution_count": 266,
   "metadata": {},
   "outputs": [
    {
     "name": "stdin",
     "output_type": "stream",
     "text": [
      "Enter your name : Aime\n"
     ]
    },
    {
     "name": "stdout",
     "output_type": "stream",
     "text": [
      "Hello brother Aime \n"
     ]
    }
   ],
   "source": [
    "name= input(\"Enter your name :\")\n",
    "def greet(name):\n",
    "    return print(f\"Hello brother {name} \")\n",
    "greet(name)    "
   ]
  },
  {
   "cell_type": "markdown",
   "metadata": {
    "id": "H_0r41EJdff_",
    "jp-MarkdownHeadingCollapsed": true
   },
   "source": [
    "\n",
    "Exercise 3:\n",
    "Write a Python function is_even(n) that checks whether a number is even."
   ]
  },
  {
   "cell_type": "code",
   "execution_count": 276,
   "metadata": {},
   "outputs": [
    {
     "name": "stdin",
     "output_type": "stream",
     "text": [
      "Enter any number: 4\n"
     ]
    },
    {
     "data": {
      "text/plain": [
       "True"
      ]
     },
     "execution_count": 276,
     "metadata": {},
     "output_type": "execute_result"
    }
   ],
   "source": [
    "n= int(input(\"Enter any number:\"))\n",
    "def is_even(n):\n",
    "    if n%2==0:\n",
    "        return True\n",
    "    else:\n",
    "        return False\n",
    "is_even(n)"
   ]
  },
  {
   "cell_type": "markdown",
   "metadata": {
    "id": "H_0r41EJdff_"
   },
   "source": [
    "\n",
    "Exercise 4:\n",
    "Write a function max_of_three(a, b, c) that returns the largest of three numbers."
   ]
  },
  {
   "cell_type": "code",
   "execution_count": 278,
   "metadata": {},
   "outputs": [
    {
     "data": {
      "text/plain": [
       "4"
      ]
     },
     "execution_count": 278,
     "metadata": {},
     "output_type": "execute_result"
    }
   ],
   "source": [
    "def max_of_three(a, b, c):\n",
    "    if a>b and a>c:\n",
    "        return a\n",
    "    elif b>a and b>c:\n",
    "        return b\n",
    "    else:\n",
    "        return c\n",
    "# Example\n",
    "max_of_three(1, 4, -1)"
   ]
  },
  {
   "cell_type": "markdown",
   "metadata": {
    "id": "H_0r41EJdff_"
   },
   "source": [
    "\n",
    "Exercise 5:\n",
    "Create a Python module math_utils.py and define a function square(x) that returns the square of a number."
   ]
  },
  {
   "cell_type": "code",
   "execution_count": 282,
   "metadata": {},
   "outputs": [
    {
     "data": {
      "text/plain": [
       "9"
      ]
     },
     "execution_count": 282,
     "metadata": {},
     "output_type": "execute_result"
    }
   ],
   "source": [
    "# \n",
    "\n",
    "def square(x):\n",
    "    \"\"\"\n",
    "    Returns the square of a number.\n",
    "    \n",
    "    Parameters:\n",
    "    x (int or float): The number to be squared.\n",
    "    \n",
    "    Returns:\n",
    "    int or float: The square of the input number.\n",
    "    \"\"\"\n",
    "    return x * x\n",
    "    \n",
    "square(3)"
   ]
  },
  {
   "cell_type": "code",
   "execution_count": 284,
   "metadata": {},
   "outputs": [
    {
     "name": "stdout",
     "output_type": "stream",
     "text": [
      "\n",
      "    Returns the square of a number.\n",
      "    \n",
      "    Parameters:\n",
      "    x (int or float): The number to be squared.\n",
      "    \n",
      "    Returns:\n",
      "    int or float: The square of the input number.\n",
      "    \n"
     ]
    }
   ],
   "source": [
    "print(square.__doc__)"
   ]
  },
  {
   "cell_type": "markdown",
   "metadata": {
    "id": "H_0r41EJdff_",
    "jp-MarkdownHeadingCollapsed": true
   },
   "source": [
    "\n",
    "Exercise 6:\n",
    "Write a function factorial(n) that returns the factorial of a number using recursion."
   ]
  },
  {
   "cell_type": "code",
   "execution_count": 291,
   "metadata": {},
   "outputs": [
    {
     "data": {
      "text/plain": [
       "24"
      ]
     },
     "execution_count": 291,
     "metadata": {},
     "output_type": "execute_result"
    }
   ],
   "source": [
    "def factorial(n):\n",
    "    if n == 0 or n == 1:\n",
    "        return 1\n",
    "    else:\n",
    "        return n * factorial(n - 1)\n",
    "factorial(4)       "
   ]
  },
  {
   "cell_type": "markdown",
   "metadata": {
    "id": "H_0r41EJdff_"
   },
   "source": [
    "\n",
    "Exercise 7:\n",
    "Write a function is_prime(n) that checks if a number is prime."
   ]
  },
  {
   "cell_type": "code",
   "execution_count": null,
   "metadata": {},
   "outputs": [],
   "source": []
  },
  {
   "cell_type": "markdown",
   "metadata": {
    "id": "H_0r41EJdff_"
   },
   "source": [
    "\n",
    "Exercise 8:\n",
    "Write a function sum_of_list(lst) that takes a list of numbers and returns the sum of all the elements."
   ]
  },
  {
   "cell_type": "code",
   "execution_count": null,
   "metadata": {
    "id": "H_0r41EJdff_"
   },
   "outputs": [],
   "source": [
    "# Exercise 8\n",
    "Exercise 9:\n",
    "Write a function fibonacci(n) that returns the nth Fibonacci number using recursion.\n",
    "\n",
    "# Exercise 9\n",
    "Exercise 10:\n",
    "Create a function reverse_string(s) that takes a string and returns the reverse of the string.\n",
    "\n",
    "# Exercise 10\n",
    "Exercise 11:\n",
    "Write a function count_vowels(s) that counts the number of vowels in a string.\n",
    "\n",
    "# Exercise 11\n",
    "Exercise 12:\n",
    "Write a function is_palindrome(s) that checks whether a string is a palindrome.\n",
    "\n",
    "# Exercise 12\n",
    "Exercise 13:\n",
    "Write a function fahrenheit_to_celsius(f) that converts Fahrenheit to Celsius.\n",
    "\n",
    "# Exercise 13\n",
    "Exercise 14:\n",
    "Write a Python function is_leap_year(year) that checks if a year is a leap year.\n",
    "\n",
    "# Exercise 14\n",
    "Exercise 15:\n",
    "Write a Python function find_max_in_list(lst) that returns the maximum value from a list.\n",
    "\n",
    "# Exercise 15\n",
    "Exercise 16:\n",
    "Write a Python function remove_duplicates(lst) that removes duplicates from a list.\n",
    "\n",
    "# Exercise 16\n",
    "Exercise 17:\n",
    "Write a Python function sum_of_squares(n) that returns the sum of squares of the first n natural numbers.\n",
    "\n",
    "# Exercise 17\n",
    "Exercise 18:\n",
    "Write a Python function check_password_strength(password) that returns True if the password meets the length and complexity requirements.\n",
    "\n",
    "# Exercise 18\n",
    "Exercise 19:\n",
    "Write a function merge_lists(list1, list2) that merges two lists into one.\n",
    "\n",
    "# Exercise 19\n",
    "Exercise 20:\n",
    "Write a function find_factors(n) that returns a list of all factors of a number n.\n",
    "\n",
    "# Exercise 20\n",
    "Exercise 21:\n",
    "Write a Python module string_utils.py that defines a function capitalize_first_letter(s) which capitalizes the first letter of each word in a string.\n",
    "\n",
    "# Exercise 21\n",
    "Exercise 22:\n",
    "Write a Python function sum_even_numbers(lst) that returns the sum of all even numbers in a list.\n",
    "\n",
    "# Exercise 22\n",
    "Exercise 23:\n",
    "Write a Python function generate_random_number() that returns a random number between 1 and 100.\n",
    "\n",
    "# Exercise 23\n",
    "Exercise 24:\n",
    "Write a Python function get_even_numbers(lst) that returns a list of all even numbers from a given list.\n",
    "\n",
    "# Exercise 24\n",
    "Exercise 25:\n",
    "Write a Python function count_occurrences(lst, item) that counts how many times an item appears in a list.\n",
    "\n",
    "# Exercise 25\n",
    "Exercise 26:\n",
    "Write a Python function gcd(a, b) that calculates the greatest common divisor of two numbers using recursion.\n",
    "\n",
    "# Exercise 26\n",
    "Exercise 27:\n",
    "Create a Python module date_utils.py and define a function days_in_month(month, year) that returns the number of days in a given month.\n",
    "\n",
    "# Exercise 27\n",
    "Exercise 28:\n",
    "Write a Python function convert_to_binary(n) that converts an integer to its binary equivalent.\n",
    "\n",
    "# Exercise 28\n",
    "Exercise 29:\n",
    "Write a Python function multiply_elements(lst, factor) that multiplies each element of a list by a given factor.\n",
    "\n",
    "# Exercise 29\n",
    "Exercise 30:\n",
    "Write a Python function replace_spaces(s) that replaces spaces in a string with underscores.\n",
    "\n",
    "# Exercise 30\n",
    "Exercise 31:\n",
    "Write a Python function is_substring(s1, s2) that checks whether s1 is a substring of s2.\n",
    "\n",
    "# Exercise 31\n",
    "Exercise 32:\n",
    "Write a Python function sum_of_digits(n) that returns the sum of the digits of a given number.\n",
    "\n",
    "# Exercise 32\n",
    "Exercise 33:\n",
    "Write a Python function caesar_cipher(s, shift) that implements the Caesar cipher encryption.\n",
    "\n",
    "# Exercise 33\n",
    "Exercise 34:\n",
    "Write a Python function find_min_in_list(lst) that returns the minimum value from a list.\n",
    "\n",
    "# Exercise 34\n",
    "Exercise 35:\n",
    "Write a Python function double_each_element(lst) that doubles each element in a list.\n",
    "\n",
    "# Exercise 35\n",
    "Exercise 36:\n",
    "Write a Python function mean(lst) that returns the average of a list of numbers.\n",
    "\n",
    "# Exercise 36\n",
    "Exercise 37:\n",
    "Write a Python function remove_vowels(s) that removes all vowels from a string.\n",
    "\n",
    "# Exercise 37\n",
    "Exercise 38:\n",
    "Write a Python function is_multiple_of(n, divisor) that checks whether a number is a multiple of another number.\n",
    "\n",
    "# Exercise 38\n",
    "Exercise 39:\n",
    "Write a Python function concat_strings(lst) that concatenates all strings in a list into a single string.\n",
    "\n",
    "# Exercise 39\n",
    "Exercise 40:\n",
    "Write a Python function get_unique_elements(lst) that returns a list of unique elements from a given list.\n",
    "\n",
    "# Exercise 40\n",
    "Exercise 41:\n",
    "Write a Python function read_file(filename) that reads the contents of a file and prints each line.\n",
    "\n",
    "# Exercise 41\n",
    "Exercise 42:\n",
    "Write a Python function save_to_file(filename, data) that writes data to a file.\n",
    "\n",
    "# Exercise 42\n",
    "Exercise 43:\n",
    "Write a Python function find_longest_word(lst) that finds the longest word in a list of words.\n",
    "\n",
    "# Exercise 43\n",
    "Exercise 44:\n",
    "Write a Python function replace_vowels(s) that replaces all vowels in a string with asterisks (*).\n",
    "\n",
    "# Exercise 44\n",
    "Exercise 45:\n",
    "Write a Python function nth_fibonacci(n) that returns the nth Fibonacci number without recursion.\n",
    "\n",
    "# Exercise 45\n",
    "Exercise 46:\n",
    "Write a Python function read_numbers_from_file(filename) that reads a file containing numbers and returns them as a list.\n",
    "\n",
    "# Exercise 46\n",
    "Exercise 47:\n",
    "Write a Python function capitalize_first_last(s) that capitalizes the first and last letter of each word in a string.\n",
    "\n",
    "# Exercise 47\n",
    "Exercise 48:\n",
    "Write a Python function sum_matrix(matrix) that returns the sum of all elements in a 2D matrix.\n",
    "\n",
    "# Exercise 48\n",
    "Exercise 49:\n",
    "Write a Python function has_duplicates(lst) that returns True if a list contains duplicate elements, otherwise returns False.\n",
    "\n",
    "# Exercise 49\n",
    "Exercise 50:\n",
    "Write a Python function sum_odd_numbers(lst) that returns the sum of all odd numbers in a list.\n",
    "\n",
    "# Exercise 50\n",
    "Exercise 51:\n",
    "Write a Python function merge_dictionaries(dict1, dict2) that merges two dictionaries.\n",
    "\n",
    "# Exercise 51\n",
    "Exercise 52:\n",
    "Write a Python function find_second_largest(lst) that returns the second-largest number in a list.\n",
    "\n",
    "# Exercise 52\n",
    "Exercise 53:\n",
    "Write a Python function read_csv_file(filename) that reads a CSV file and prints each row.\n",
    "\n",
    "# Exercise 53\n",
    "Exercise 54:\n",
    "Write a Python function count_consonants(s) that counts the number of consonants in a string.\n",
    "\n",
    "# Exercise 54\n",
    "Exercise 55:\n",
    "Write a Python function celsius_to_fahrenheit(c) that converts Celsius to Fahrenheit.\n",
    "\n",
    "# Exercise 55\n",
    "Exercise 56:\n",
    "Write a Python function is_perfect_square(n) that checks if a number is a perfect square.\n",
    "\n",
    "# Exercise 56\n",
    "Exercise 57:\n",
    "Write a Python function is_anagram(s1, s2) that checks if two strings are anagrams of each other.\n",
    "\n",
    "# Exercise 57\n",
    "Exercise 58:\n",
    "Write a Python function sum_of_cubes(n) that returns the sum of cubes of the first n natural numbers.\n",
    "\n",
    "# Exercise 58\n",
    "Exercise 59:\n",
    "Write a Python function remove_punctuation(s) that removes all punctuation from a string.\n",
    "\n",
    "# Exercise 59\n",
    "Exercise 60:\n",
    "Write a Python function sum_even_digits(n) that returns the sum of the even digits of a number.\n",
    "\n",
    "# Exercise 60"
   ]
  }
 ],
 "metadata": {
  "colab": {
   "include_colab_link": true,
   "provenance": []
  },
  "kernelspec": {
   "display_name": "Python 3 (ipykernel)",
   "language": "python",
   "name": "python3"
  },
  "language_info": {
   "codemirror_mode": {
    "name": "ipython",
    "version": 3
   },
   "file_extension": ".py",
   "mimetype": "text/x-python",
   "name": "python",
   "nbconvert_exporter": "python",
   "pygments_lexer": "ipython3",
   "version": "3.12.4"
  }
 },
 "nbformat": 4,
 "nbformat_minor": 4
}
